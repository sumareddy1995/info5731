{
  "nbformat": 4,
  "nbformat_minor": 0,
  "metadata": {
    "colab": {
      "name": "deshireddy_classwork2",
      "version": "0.3.2",
      "provenance": [],
      "collapsed_sections": [],
      "include_colab_link": true
    },
    "kernelspec": {
      "name": "python3",
      "display_name": "Python 3"
    }
  },
  "cells": [
    {
      "cell_type": "markdown",
      "metadata": {
        "id": "view-in-github",
        "colab_type": "text"
      },
      "source": [
        "<a href=\"https://colab.research.google.com/github/sumareddy1995/info5731/blob/master/deshireddy_classwork2.ipynb\" target=\"_parent\"><img src=\"https://colab.research.google.com/assets/colab-badge.svg\" alt=\"Open In Colab\"/></a>"
      ]
    },
    {
      "metadata": {
        "id": "00TbCTENXkDt",
        "colab_type": "text"
      },
      "cell_type": "markdown",
      "source": [
        "# Class work 2"
      ]
    },
    {
      "metadata": {
        "id": "pLDeyVA_XopP",
        "colab_type": "text"
      },
      "cell_type": "markdown",
      "source": [
        "In this class work, you will try to do **Exploratory Data Analysis** with Pandas."
      ]
    },
    {
      "metadata": {
        "id": "yU7U4BV5_zyk",
        "colab_type": "text"
      },
      "cell_type": "markdown",
      "source": [
        "## Data Preperation"
      ]
    },
    {
      "metadata": {
        "id": "iYVG-cN9YanN",
        "colab_type": "text"
      },
      "cell_type": "markdown",
      "source": [
        "Please run the following lines of codes, to get source data."
      ]
    },
    {
      "metadata": {
        "id": "kXj21moT-xkR",
        "colab_type": "code",
        "colab": {
          "base_uri": "https://localhost:8080/",
          "height": 295
        },
        "outputId": "11bb300e-c696-4a92-f49c-f323936348f8"
      },
      "cell_type": "code",
      "source": [
        "!wget https://github.com/wshuyi/info-5731-public/raw/master/winemag-data-130k-v2.csv.zip"
      ],
      "execution_count": 2,
      "outputs": [
        {
          "output_type": "stream",
          "text": [
            "--2019-02-19 21:09:52--  https://github.com/wshuyi/info-5731-public/raw/master/winemag-data-130k-v2.csv.zip\n",
            "Resolving github.com (github.com)... 192.30.255.112, 192.30.255.113\n",
            "Connecting to github.com (github.com)|192.30.255.112|:443... connected.\n",
            "HTTP request sent, awaiting response... 302 Found\n",
            "Location: https://raw.githubusercontent.com/wshuyi/info-5731-public/master/winemag-data-130k-v2.csv.zip [following]\n",
            "--2019-02-19 21:09:57--  https://raw.githubusercontent.com/wshuyi/info-5731-public/master/winemag-data-130k-v2.csv.zip\n",
            "Resolving raw.githubusercontent.com (raw.githubusercontent.com)... 151.101.0.133, 151.101.64.133, 151.101.128.133, ...\n",
            "Connecting to raw.githubusercontent.com (raw.githubusercontent.com)|151.101.0.133|:443... connected.\n",
            "HTTP request sent, awaiting response... 200 OK\n",
            "Length: 17180932 (16M) [application/zip]\n",
            "Saving to: ‘winemag-data-130k-v2.csv.zip’\n",
            "\n",
            "winemag-data-130k-v 100%[===================>]  16.38M  --.-KB/s    in 0.1s    \n",
            "\n",
            "2019-02-19 21:09:57 (150 MB/s) - ‘winemag-data-130k-v2.csv.zip’ saved [17180932/17180932]\n",
            "\n"
          ],
          "name": "stdout"
        }
      ]
    },
    {
      "metadata": {
        "id": "6-kHQW5Q-0hL",
        "colab_type": "code",
        "colab": {
          "base_uri": "https://localhost:8080/",
          "height": 52
        },
        "outputId": "8f268ad7-db8b-4bf3-fb5a-fdafaa6529ad"
      },
      "cell_type": "code",
      "source": [
        "!unzip winemag-data-130k-v2.csv.zip"
      ],
      "execution_count": 3,
      "outputs": [
        {
          "output_type": "stream",
          "text": [
            "Archive:  winemag-data-130k-v2.csv.zip\n",
            "  inflating: winemag-data-130k-v2.csv  \n"
          ],
          "name": "stdout"
        }
      ]
    },
    {
      "metadata": {
        "id": "bCMqjn3nXsuk",
        "colab_type": "text"
      },
      "cell_type": "markdown",
      "source": [
        "## Questions\n",
        "\n",
        "5 points for each question, and full score is 100. "
      ]
    },
    {
      "metadata": {
        "id": "75w4RZfS_UQC",
        "colab_type": "text"
      },
      "cell_type": "markdown",
      "source": [
        "**Question 1.** The data file is stored in csv format and named \"winemag-data-130k-v2.csv \". Please read it into a Pandas dataframe, and name the dataframe as \"reviews\". Make sure the first column should be \"country\", instead of a **\"unnamed\"** one. Display the first 5 rows."
      ]
    },
    {
      "metadata": {
        "id": "qW1V3R1K_nMT",
        "colab_type": "code",
        "colab": {
          "base_uri": "https://localhost:8080/",
          "height": 655
        },
        "outputId": "8f14358d-e5aa-4aaf-a88f-293f94393488"
      },
      "cell_type": "code",
      "source": [
        "import pandas as pd\n",
        "reviews=pd.read_csv('winemag-data-130k-v2.csv')\n",
        "reviews.drop(['Unnamed: 0'], axis=1)\n",
        "reviews.head()"
      ],
      "execution_count": 6,
      "outputs": [
        {
          "output_type": "execute_result",
          "data": {
            "text/html": [
              "<div>\n",
              "<style scoped>\n",
              "    .dataframe tbody tr th:only-of-type {\n",
              "        vertical-align: middle;\n",
              "    }\n",
              "\n",
              "    .dataframe tbody tr th {\n",
              "        vertical-align: top;\n",
              "    }\n",
              "\n",
              "    .dataframe thead th {\n",
              "        text-align: right;\n",
              "    }\n",
              "</style>\n",
              "<table border=\"1\" class=\"dataframe\">\n",
              "  <thead>\n",
              "    <tr style=\"text-align: right;\">\n",
              "      <th></th>\n",
              "      <th>Unnamed: 0</th>\n",
              "      <th>country</th>\n",
              "      <th>description</th>\n",
              "      <th>designation</th>\n",
              "      <th>points</th>\n",
              "      <th>price</th>\n",
              "      <th>province</th>\n",
              "      <th>region_1</th>\n",
              "      <th>region_2</th>\n",
              "      <th>taster_name</th>\n",
              "      <th>taster_twitter_handle</th>\n",
              "      <th>title</th>\n",
              "      <th>variety</th>\n",
              "      <th>winery</th>\n",
              "    </tr>\n",
              "  </thead>\n",
              "  <tbody>\n",
              "    <tr>\n",
              "      <th>0</th>\n",
              "      <td>0</td>\n",
              "      <td>Italy</td>\n",
              "      <td>Aromas include tropical fruit, broom, brimston...</td>\n",
              "      <td>Vulkà Bianco</td>\n",
              "      <td>87</td>\n",
              "      <td>NaN</td>\n",
              "      <td>Sicily &amp; Sardinia</td>\n",
              "      <td>Etna</td>\n",
              "      <td>NaN</td>\n",
              "      <td>Kerin O’Keefe</td>\n",
              "      <td>@kerinokeefe</td>\n",
              "      <td>Nicosia 2013 Vulkà Bianco  (Etna)</td>\n",
              "      <td>White Blend</td>\n",
              "      <td>Nicosia</td>\n",
              "    </tr>\n",
              "    <tr>\n",
              "      <th>1</th>\n",
              "      <td>1</td>\n",
              "      <td>Portugal</td>\n",
              "      <td>This is ripe and fruity, a wine that is smooth...</td>\n",
              "      <td>Avidagos</td>\n",
              "      <td>87</td>\n",
              "      <td>15.0</td>\n",
              "      <td>Douro</td>\n",
              "      <td>NaN</td>\n",
              "      <td>NaN</td>\n",
              "      <td>Roger Voss</td>\n",
              "      <td>@vossroger</td>\n",
              "      <td>Quinta dos Avidagos 2011 Avidagos Red (Douro)</td>\n",
              "      <td>Portuguese Red</td>\n",
              "      <td>Quinta dos Avidagos</td>\n",
              "    </tr>\n",
              "    <tr>\n",
              "      <th>2</th>\n",
              "      <td>2</td>\n",
              "      <td>US</td>\n",
              "      <td>Tart and snappy, the flavors of lime flesh and...</td>\n",
              "      <td>NaN</td>\n",
              "      <td>87</td>\n",
              "      <td>14.0</td>\n",
              "      <td>Oregon</td>\n",
              "      <td>Willamette Valley</td>\n",
              "      <td>Willamette Valley</td>\n",
              "      <td>Paul Gregutt</td>\n",
              "      <td>@paulgwine</td>\n",
              "      <td>Rainstorm 2013 Pinot Gris (Willamette Valley)</td>\n",
              "      <td>Pinot Gris</td>\n",
              "      <td>Rainstorm</td>\n",
              "    </tr>\n",
              "    <tr>\n",
              "      <th>3</th>\n",
              "      <td>3</td>\n",
              "      <td>US</td>\n",
              "      <td>Pineapple rind, lemon pith and orange blossom ...</td>\n",
              "      <td>Reserve Late Harvest</td>\n",
              "      <td>87</td>\n",
              "      <td>13.0</td>\n",
              "      <td>Michigan</td>\n",
              "      <td>Lake Michigan Shore</td>\n",
              "      <td>NaN</td>\n",
              "      <td>Alexander Peartree</td>\n",
              "      <td>NaN</td>\n",
              "      <td>St. Julian 2013 Reserve Late Harvest Riesling ...</td>\n",
              "      <td>Riesling</td>\n",
              "      <td>St. Julian</td>\n",
              "    </tr>\n",
              "    <tr>\n",
              "      <th>4</th>\n",
              "      <td>4</td>\n",
              "      <td>US</td>\n",
              "      <td>Much like the regular bottling from 2012, this...</td>\n",
              "      <td>Vintner's Reserve Wild Child Block</td>\n",
              "      <td>87</td>\n",
              "      <td>65.0</td>\n",
              "      <td>Oregon</td>\n",
              "      <td>Willamette Valley</td>\n",
              "      <td>Willamette Valley</td>\n",
              "      <td>Paul Gregutt</td>\n",
              "      <td>@paulgwine</td>\n",
              "      <td>Sweet Cheeks 2012 Vintner's Reserve Wild Child...</td>\n",
              "      <td>Pinot Noir</td>\n",
              "      <td>Sweet Cheeks</td>\n",
              "    </tr>\n",
              "  </tbody>\n",
              "</table>\n",
              "</div>"
            ],
            "text/plain": [
              "   Unnamed: 0   country                                        description  \\\n",
              "0           0     Italy  Aromas include tropical fruit, broom, brimston...   \n",
              "1           1  Portugal  This is ripe and fruity, a wine that is smooth...   \n",
              "2           2        US  Tart and snappy, the flavors of lime flesh and...   \n",
              "3           3        US  Pineapple rind, lemon pith and orange blossom ...   \n",
              "4           4        US  Much like the regular bottling from 2012, this...   \n",
              "\n",
              "                          designation  points  price           province  \\\n",
              "0                        Vulkà Bianco      87    NaN  Sicily & Sardinia   \n",
              "1                            Avidagos      87   15.0              Douro   \n",
              "2                                 NaN      87   14.0             Oregon   \n",
              "3                Reserve Late Harvest      87   13.0           Michigan   \n",
              "4  Vintner's Reserve Wild Child Block      87   65.0             Oregon   \n",
              "\n",
              "              region_1           region_2         taster_name  \\\n",
              "0                 Etna                NaN       Kerin O’Keefe   \n",
              "1                  NaN                NaN          Roger Voss   \n",
              "2    Willamette Valley  Willamette Valley        Paul Gregutt   \n",
              "3  Lake Michigan Shore                NaN  Alexander Peartree   \n",
              "4    Willamette Valley  Willamette Valley        Paul Gregutt   \n",
              "\n",
              "  taster_twitter_handle                                              title  \\\n",
              "0          @kerinokeefe                  Nicosia 2013 Vulkà Bianco  (Etna)   \n",
              "1            @vossroger      Quinta dos Avidagos 2011 Avidagos Red (Douro)   \n",
              "2           @paulgwine       Rainstorm 2013 Pinot Gris (Willamette Valley)   \n",
              "3                   NaN  St. Julian 2013 Reserve Late Harvest Riesling ...   \n",
              "4           @paulgwine   Sweet Cheeks 2012 Vintner's Reserve Wild Child...   \n",
              "\n",
              "          variety               winery  \n",
              "0     White Blend              Nicosia  \n",
              "1  Portuguese Red  Quinta dos Avidagos  \n",
              "2      Pinot Gris            Rainstorm  \n",
              "3        Riesling           St. Julian  \n",
              "4      Pinot Noir         Sweet Cheeks  "
            ]
          },
          "metadata": {
            "tags": []
          },
          "execution_count": 6
        }
      ]
    },
    {
      "metadata": {
        "id": "SLIvVmMncJp4",
        "colab_type": "code",
        "colab": {}
      },
      "cell_type": "code",
      "source": [
        "# Expected Output:\n",
        "image_url = \"https://github.com/wshuyi/github_pub_img/raw/master/assets/2019-02-18-10-21-51-880386.png\"\n",
        "from IPython.display import Image\n",
        "Image(image_url)"
      ],
      "execution_count": 0,
      "outputs": []
    },
    {
      "metadata": {
        "id": "IcCTDpO1AwkP",
        "colab_type": "text"
      },
      "cell_type": "markdown",
      "source": [
        "**Question 2.** What is the data type of the `points` column in the dataset?"
      ]
    },
    {
      "metadata": {
        "colab_type": "code",
        "id": "UBAPam8FXTyX",
        "colab": {
          "base_uri": "https://localhost:8080/",
          "height": 35
        },
        "outputId": "6bc29f44-aa5b-48c0-c18b-bea8147469ef"
      },
      "cell_type": "code",
      "source": [
        "reviews.points.dtype"
      ],
      "execution_count": 8,
      "outputs": [
        {
          "output_type": "execute_result",
          "data": {
            "text/plain": [
              "dtype('int64')"
            ]
          },
          "metadata": {
            "tags": []
          },
          "execution_count": 8
        }
      ]
    },
    {
      "metadata": {
        "id": "3FWHkhoFctMa",
        "colab_type": "code",
        "colab": {}
      },
      "cell_type": "code",
      "source": [
        "# Expected Output:\n",
        "image_url = \"https://github.com/wshuyi/github_pub_img/raw/master/assets/2019-02-18-10-22-08-367025.png\"\n",
        "from IPython.display import Image\n",
        "Image(image_url)"
      ],
      "execution_count": 0,
      "outputs": []
    },
    {
      "metadata": {
        "id": "kzK8xgGaOhS6",
        "colab_type": "text"
      },
      "cell_type": "markdown",
      "source": [
        "**Question 3.** Select the `description` column from `reviews` and assign the result to the variable `desc`. Show the first 5 rows of `desc`."
      ]
    },
    {
      "metadata": {
        "colab_type": "code",
        "id": "TqrZGd7wXUSa",
        "colab": {
          "base_uri": "https://localhost:8080/",
          "height": 121
        },
        "outputId": "5b5e577a-32b3-46f2-d5d8-d95d01fd5de3"
      },
      "cell_type": "code",
      "source": [
        "desc = reviews.description\n",
        "desc.head()"
      ],
      "execution_count": 17,
      "outputs": [
        {
          "output_type": "execute_result",
          "data": {
            "text/plain": [
              "0    Aromas include tropical fruit, broom, brimston...\n",
              "1    This is ripe and fruity, a wine that is smooth...\n",
              "2    Tart and snappy, the flavors of lime flesh and...\n",
              "3    Pineapple rind, lemon pith and orange blossom ...\n",
              "4    Much like the regular bottling from 2012, this...\n",
              "Name: description, dtype: object"
            ]
          },
          "metadata": {
            "tags": []
          },
          "execution_count": 17
        }
      ]
    },
    {
      "metadata": {
        "id": "VxnoTs4NcvEM",
        "colab_type": "code",
        "colab": {}
      },
      "cell_type": "code",
      "source": [
        "# Expected Output:\n",
        "image_url = \"https://github.com/wshuyi/github_pub_img/raw/master/assets/2019-02-18-10-22-46-339216.png\"\n",
        "from IPython.display import Image\n",
        "Image(image_url)"
      ],
      "execution_count": 0,
      "outputs": []
    },
    {
      "metadata": {
        "id": "3EcvMcQVOuRF",
        "colab_type": "text"
      },
      "cell_type": "markdown",
      "source": [
        "**Question 4.** what type of object is `desc`?"
      ]
    },
    {
      "metadata": {
        "colab_type": "code",
        "id": "Ntt-XJeiXUv9",
        "colab": {
          "base_uri": "https://localhost:8080/",
          "height": 35
        },
        "outputId": "92bd8e18-d49e-4e12-fc14-7a982baa4773"
      },
      "cell_type": "code",
      "source": [
        "type(desc)"
      ],
      "execution_count": 19,
      "outputs": [
        {
          "output_type": "execute_result",
          "data": {
            "text/plain": [
              "pandas.core.series.Series"
            ]
          },
          "metadata": {
            "tags": []
          },
          "execution_count": 19
        }
      ]
    },
    {
      "metadata": {
        "id": "SseLGPuScyAM",
        "colab_type": "code",
        "colab": {}
      },
      "cell_type": "code",
      "source": [
        "# Expected Output:\n",
        "image_url = \"https://github.com/wshuyi/github_pub_img/raw/master/assets/2019-02-18-10-22-58-641958.png\"\n",
        "from IPython.display import Image\n",
        "Image(image_url)"
      ],
      "execution_count": 0,
      "outputs": []
    },
    {
      "metadata": {
        "id": "CwrlkouyO2hs",
        "colab_type": "text"
      },
      "cell_type": "markdown",
      "source": [
        "**Question 5.** Select the first value from the description column of `reviews`, assigning it to variable `first_description`. Show the content of `first_description`."
      ]
    },
    {
      "metadata": {
        "colab_type": "code",
        "id": "RskJKxrkXVQD",
        "colab": {
          "base_uri": "https://localhost:8080/",
          "height": 55
        },
        "outputId": "77c01469-d8b6-427e-e049-5fa2045005e5"
      },
      "cell_type": "code",
      "source": [
        "first_description = desc[0]\n",
        "first_description"
      ],
      "execution_count": 20,
      "outputs": [
        {
          "output_type": "execute_result",
          "data": {
            "text/plain": [
              "\"Aromas include tropical fruit, broom, brimstone and dried herb. The palate isn't overly expressive, offering unripened apple, citrus and dried sage alongside brisk acidity.\""
            ]
          },
          "metadata": {
            "tags": []
          },
          "execution_count": 20
        }
      ]
    },
    {
      "metadata": {
        "id": "6g_osKvBc0qp",
        "colab_type": "code",
        "colab": {}
      },
      "cell_type": "code",
      "source": [
        "# Expected Output:\n",
        "image_url = \"https://github.com/wshuyi/github_pub_img/raw/master/assets/2019-02-18-10-23-18-848390.png\"\n",
        "from IPython.display import Image\n",
        "Image(image_url)"
      ],
      "execution_count": 0,
      "outputs": []
    },
    {
      "metadata": {
        "id": "7vqxm9CaPLPZ",
        "colab_type": "text"
      },
      "cell_type": "markdown",
      "source": [
        "**Question 6.** Select the first row of data (the first record) from `reviews`, assigning it to the variable `first_row`. Show the content of `first_row`."
      ]
    },
    {
      "metadata": {
        "colab_type": "code",
        "id": "QNZfRkHHXVpm",
        "colab": {
          "base_uri": "https://localhost:8080/",
          "height": 186
        },
        "outputId": "d3c1d35e-23e6-4f78-af77-237bb9d9664f"
      },
      "cell_type": "code",
      "source": [
        "first_row = reviews.head(1)\n",
        "first_row"
      ],
      "execution_count": 21,
      "outputs": [
        {
          "output_type": "execute_result",
          "data": {
            "text/html": [
              "<div>\n",
              "<style scoped>\n",
              "    .dataframe tbody tr th:only-of-type {\n",
              "        vertical-align: middle;\n",
              "    }\n",
              "\n",
              "    .dataframe tbody tr th {\n",
              "        vertical-align: top;\n",
              "    }\n",
              "\n",
              "    .dataframe thead th {\n",
              "        text-align: right;\n",
              "    }\n",
              "</style>\n",
              "<table border=\"1\" class=\"dataframe\">\n",
              "  <thead>\n",
              "    <tr style=\"text-align: right;\">\n",
              "      <th></th>\n",
              "      <th>Unnamed: 0</th>\n",
              "      <th>country</th>\n",
              "      <th>description</th>\n",
              "      <th>designation</th>\n",
              "      <th>points</th>\n",
              "      <th>price</th>\n",
              "      <th>province</th>\n",
              "      <th>region_1</th>\n",
              "      <th>region_2</th>\n",
              "      <th>taster_name</th>\n",
              "      <th>taster_twitter_handle</th>\n",
              "      <th>title</th>\n",
              "      <th>variety</th>\n",
              "      <th>winery</th>\n",
              "    </tr>\n",
              "  </thead>\n",
              "  <tbody>\n",
              "    <tr>\n",
              "      <th>0</th>\n",
              "      <td>0</td>\n",
              "      <td>Italy</td>\n",
              "      <td>Aromas include tropical fruit, broom, brimston...</td>\n",
              "      <td>Vulkà Bianco</td>\n",
              "      <td>87</td>\n",
              "      <td>NaN</td>\n",
              "      <td>Sicily &amp; Sardinia</td>\n",
              "      <td>Etna</td>\n",
              "      <td>NaN</td>\n",
              "      <td>Kerin O’Keefe</td>\n",
              "      <td>@kerinokeefe</td>\n",
              "      <td>Nicosia 2013 Vulkà Bianco  (Etna)</td>\n",
              "      <td>White Blend</td>\n",
              "      <td>Nicosia</td>\n",
              "    </tr>\n",
              "  </tbody>\n",
              "</table>\n",
              "</div>"
            ],
            "text/plain": [
              "   Unnamed: 0 country                                        description  \\\n",
              "0           0   Italy  Aromas include tropical fruit, broom, brimston...   \n",
              "\n",
              "    designation  points  price           province region_1 region_2  \\\n",
              "0  Vulkà Bianco      87    NaN  Sicily & Sardinia     Etna      NaN   \n",
              "\n",
              "     taster_name taster_twitter_handle                              title  \\\n",
              "0  Kerin O’Keefe          @kerinokeefe  Nicosia 2013 Vulkà Bianco  (Etna)   \n",
              "\n",
              "       variety   winery  \n",
              "0  White Blend  Nicosia  "
            ]
          },
          "metadata": {
            "tags": []
          },
          "execution_count": 21
        }
      ]
    },
    {
      "metadata": {
        "id": "1xGiCixEc58C",
        "colab_type": "code",
        "colab": {}
      },
      "cell_type": "code",
      "source": [
        "# Expected Output:\n",
        "image_url = \"https://github.com/wshuyi/github_pub_img/raw/master/assets/2019-02-18-10-23-29-081662.png\"\n",
        "from IPython.display import Image\n",
        "Image(image_url)"
      ],
      "execution_count": 0,
      "outputs": []
    },
    {
      "metadata": {
        "id": "bXaPGZyKPYPT",
        "colab_type": "text"
      },
      "cell_type": "markdown",
      "source": [
        "**Question 7.** Select the first 10 values from the `description` column in `reviews`, assigning the result to variable `first_descriptions`. Show the content of `first_descriptions`. (Hint: format your output as a `pandas` `Series`.)"
      ]
    },
    {
      "metadata": {
        "colab_type": "code",
        "id": "gXjvqaoXXWGK",
        "colab": {
          "base_uri": "https://localhost:8080/",
          "height": 208
        },
        "outputId": "a9d13113-a9a7-4aff-fce4-d54927ac34de"
      },
      "cell_type": "code",
      "source": [
        "desc = reviews.description\n",
        "first_descriptions = desc.head(10)\n",
        "first_descriptions"
      ],
      "execution_count": 22,
      "outputs": [
        {
          "output_type": "execute_result",
          "data": {
            "text/plain": [
              "0    Aromas include tropical fruit, broom, brimston...\n",
              "1    This is ripe and fruity, a wine that is smooth...\n",
              "2    Tart and snappy, the flavors of lime flesh and...\n",
              "3    Pineapple rind, lemon pith and orange blossom ...\n",
              "4    Much like the regular bottling from 2012, this...\n",
              "5    Blackberry and raspberry aromas show a typical...\n",
              "6    Here's a bright, informal red that opens with ...\n",
              "7    This dry and restrained wine offers spice in p...\n",
              "8    Savory dried thyme notes accent sunnier flavor...\n",
              "9    This has great depth of flavor with its fresh ...\n",
              "Name: description, dtype: object"
            ]
          },
          "metadata": {
            "tags": []
          },
          "execution_count": 22
        }
      ]
    },
    {
      "metadata": {
        "id": "Yx_gKZgXc8bF",
        "colab_type": "code",
        "colab": {}
      },
      "cell_type": "code",
      "source": [
        "# Expected Output:\n",
        "image_url = \"https://github.com/wshuyi/github_pub_img/raw/master/assets/2019-02-18-10-23-54-273700.png\"\n",
        "from IPython.display import Image\n",
        "Image(image_url)"
      ],
      "execution_count": 0,
      "outputs": []
    },
    {
      "metadata": {
        "id": "nU_kWzEWPlhU",
        "colab_type": "text"
      },
      "cell_type": "markdown",
      "source": [
        "**Question 8.** Select the records with index labels `1`, `2`, `4`, `5`, and `7`, assigning the result to the variable `sample_reviews`. Show first 5 rows of `sample_reviews`."
      ]
    },
    {
      "metadata": {
        "colab_type": "code",
        "id": "_B5NkoPeXWtW",
        "colab": {
          "base_uri": "https://localhost:8080/",
          "height": 517
        },
        "outputId": "952e96c9-dfaf-42e7-9c10-37a780ecec90"
      },
      "cell_type": "code",
      "source": [
        "range1=[1,2,4,5,7]\n",
        "for i in [range1]:\n",
        "  sample_reviews=reviews.iloc[i]\n",
        "sample_reviews"
      ],
      "execution_count": 9,
      "outputs": [
        {
          "output_type": "execute_result",
          "data": {
            "text/html": [
              "<div>\n",
              "<style scoped>\n",
              "    .dataframe tbody tr th:only-of-type {\n",
              "        vertical-align: middle;\n",
              "    }\n",
              "\n",
              "    .dataframe tbody tr th {\n",
              "        vertical-align: top;\n",
              "    }\n",
              "\n",
              "    .dataframe thead th {\n",
              "        text-align: right;\n",
              "    }\n",
              "</style>\n",
              "<table border=\"1\" class=\"dataframe\">\n",
              "  <thead>\n",
              "    <tr style=\"text-align: right;\">\n",
              "      <th></th>\n",
              "      <th>Unnamed: 0</th>\n",
              "      <th>country</th>\n",
              "      <th>description</th>\n",
              "      <th>designation</th>\n",
              "      <th>points</th>\n",
              "      <th>price</th>\n",
              "      <th>province</th>\n",
              "      <th>region_1</th>\n",
              "      <th>region_2</th>\n",
              "      <th>taster_name</th>\n",
              "      <th>taster_twitter_handle</th>\n",
              "      <th>title</th>\n",
              "      <th>variety</th>\n",
              "      <th>winery</th>\n",
              "    </tr>\n",
              "  </thead>\n",
              "  <tbody>\n",
              "    <tr>\n",
              "      <th>1</th>\n",
              "      <td>1</td>\n",
              "      <td>Portugal</td>\n",
              "      <td>This is ripe and fruity, a wine that is smooth...</td>\n",
              "      <td>Avidagos</td>\n",
              "      <td>87</td>\n",
              "      <td>15.0</td>\n",
              "      <td>Douro</td>\n",
              "      <td>NaN</td>\n",
              "      <td>NaN</td>\n",
              "      <td>Roger Voss</td>\n",
              "      <td>@vossroger</td>\n",
              "      <td>Quinta dos Avidagos 2011 Avidagos Red (Douro)</td>\n",
              "      <td>Portuguese Red</td>\n",
              "      <td>Quinta dos Avidagos</td>\n",
              "    </tr>\n",
              "    <tr>\n",
              "      <th>2</th>\n",
              "      <td>2</td>\n",
              "      <td>US</td>\n",
              "      <td>Tart and snappy, the flavors of lime flesh and...</td>\n",
              "      <td>NaN</td>\n",
              "      <td>87</td>\n",
              "      <td>14.0</td>\n",
              "      <td>Oregon</td>\n",
              "      <td>Willamette Valley</td>\n",
              "      <td>Willamette Valley</td>\n",
              "      <td>Paul Gregutt</td>\n",
              "      <td>@paulgwine</td>\n",
              "      <td>Rainstorm 2013 Pinot Gris (Willamette Valley)</td>\n",
              "      <td>Pinot Gris</td>\n",
              "      <td>Rainstorm</td>\n",
              "    </tr>\n",
              "    <tr>\n",
              "      <th>4</th>\n",
              "      <td>4</td>\n",
              "      <td>US</td>\n",
              "      <td>Much like the regular bottling from 2012, this...</td>\n",
              "      <td>Vintner's Reserve Wild Child Block</td>\n",
              "      <td>87</td>\n",
              "      <td>65.0</td>\n",
              "      <td>Oregon</td>\n",
              "      <td>Willamette Valley</td>\n",
              "      <td>Willamette Valley</td>\n",
              "      <td>Paul Gregutt</td>\n",
              "      <td>@paulgwine</td>\n",
              "      <td>Sweet Cheeks 2012 Vintner's Reserve Wild Child...</td>\n",
              "      <td>Pinot Noir</td>\n",
              "      <td>Sweet Cheeks</td>\n",
              "    </tr>\n",
              "    <tr>\n",
              "      <th>5</th>\n",
              "      <td>5</td>\n",
              "      <td>Spain</td>\n",
              "      <td>Blackberry and raspberry aromas show a typical...</td>\n",
              "      <td>Ars In Vitro</td>\n",
              "      <td>87</td>\n",
              "      <td>15.0</td>\n",
              "      <td>Northern Spain</td>\n",
              "      <td>Navarra</td>\n",
              "      <td>NaN</td>\n",
              "      <td>Michael Schachner</td>\n",
              "      <td>@wineschach</td>\n",
              "      <td>Tandem 2011 Ars In Vitro Tempranillo-Merlot (N...</td>\n",
              "      <td>Tempranillo-Merlot</td>\n",
              "      <td>Tandem</td>\n",
              "    </tr>\n",
              "    <tr>\n",
              "      <th>7</th>\n",
              "      <td>7</td>\n",
              "      <td>France</td>\n",
              "      <td>This dry and restrained wine offers spice in p...</td>\n",
              "      <td>NaN</td>\n",
              "      <td>87</td>\n",
              "      <td>24.0</td>\n",
              "      <td>Alsace</td>\n",
              "      <td>Alsace</td>\n",
              "      <td>NaN</td>\n",
              "      <td>Roger Voss</td>\n",
              "      <td>@vossroger</td>\n",
              "      <td>Trimbach 2012 Gewurztraminer (Alsace)</td>\n",
              "      <td>Gewürztraminer</td>\n",
              "      <td>Trimbach</td>\n",
              "    </tr>\n",
              "  </tbody>\n",
              "</table>\n",
              "</div>"
            ],
            "text/plain": [
              "   Unnamed: 0   country                                        description  \\\n",
              "1           1  Portugal  This is ripe and fruity, a wine that is smooth...   \n",
              "2           2        US  Tart and snappy, the flavors of lime flesh and...   \n",
              "4           4        US  Much like the regular bottling from 2012, this...   \n",
              "5           5     Spain  Blackberry and raspberry aromas show a typical...   \n",
              "7           7    France  This dry and restrained wine offers spice in p...   \n",
              "\n",
              "                          designation  points  price        province  \\\n",
              "1                            Avidagos      87   15.0           Douro   \n",
              "2                                 NaN      87   14.0          Oregon   \n",
              "4  Vintner's Reserve Wild Child Block      87   65.0          Oregon   \n",
              "5                        Ars In Vitro      87   15.0  Northern Spain   \n",
              "7                                 NaN      87   24.0          Alsace   \n",
              "\n",
              "            region_1           region_2        taster_name  \\\n",
              "1                NaN                NaN         Roger Voss   \n",
              "2  Willamette Valley  Willamette Valley       Paul Gregutt   \n",
              "4  Willamette Valley  Willamette Valley       Paul Gregutt   \n",
              "5            Navarra                NaN  Michael Schachner   \n",
              "7             Alsace                NaN         Roger Voss   \n",
              "\n",
              "  taster_twitter_handle                                              title  \\\n",
              "1            @vossroger      Quinta dos Avidagos 2011 Avidagos Red (Douro)   \n",
              "2           @paulgwine       Rainstorm 2013 Pinot Gris (Willamette Valley)   \n",
              "4           @paulgwine   Sweet Cheeks 2012 Vintner's Reserve Wild Child...   \n",
              "5           @wineschach  Tandem 2011 Ars In Vitro Tempranillo-Merlot (N...   \n",
              "7            @vossroger              Trimbach 2012 Gewurztraminer (Alsace)   \n",
              "\n",
              "              variety               winery  \n",
              "1      Portuguese Red  Quinta dos Avidagos  \n",
              "2          Pinot Gris            Rainstorm  \n",
              "4          Pinot Noir         Sweet Cheeks  \n",
              "5  Tempranillo-Merlot               Tandem  \n",
              "7      Gewürztraminer             Trimbach  "
            ]
          },
          "metadata": {
            "tags": []
          },
          "execution_count": 9
        }
      ]
    },
    {
      "metadata": {
        "id": "NJTA8Xc3c_oM",
        "colab_type": "code",
        "colab": {}
      },
      "cell_type": "code",
      "source": [
        "# Expected Output:\n",
        "image_url = \"https://github.com/wshuyi/github_pub_img/raw/master/assets/2019-02-18-10-24-11-414043.png\"\n",
        "from IPython.display import Image\n",
        "Image(image_url)"
      ],
      "execution_count": 0,
      "outputs": []
    },
    {
      "metadata": {
        "id": "O1S9d3roQF50",
        "colab_type": "text"
      },
      "cell_type": "markdown",
      "source": [
        "**Question 9.** Create a variable df containing the country, province, region_1, and region_2 columns of the records with the index labels 0, 2, 20, and 200. Show the content of df."
      ]
    },
    {
      "metadata": {
        "colab_type": "code",
        "id": "raPuwVGzXXSk",
        "colab": {
          "base_uri": "https://localhost:8080/",
          "height": 171
        },
        "outputId": "880eb39e-4b0c-42b9-d689-a491c818f93b"
      },
      "cell_type": "code",
      "source": [
        "colu1=['country','province','region_1','region_2']\n",
        "df=reviews[colu1]\n",
        "i=[0,2,20,200]\n",
        "df.iloc[i]"
      ],
      "execution_count": 10,
      "outputs": [
        {
          "output_type": "execute_result",
          "data": {
            "text/html": [
              "<div>\n",
              "<style scoped>\n",
              "    .dataframe tbody tr th:only-of-type {\n",
              "        vertical-align: middle;\n",
              "    }\n",
              "\n",
              "    .dataframe tbody tr th {\n",
              "        vertical-align: top;\n",
              "    }\n",
              "\n",
              "    .dataframe thead th {\n",
              "        text-align: right;\n",
              "    }\n",
              "</style>\n",
              "<table border=\"1\" class=\"dataframe\">\n",
              "  <thead>\n",
              "    <tr style=\"text-align: right;\">\n",
              "      <th></th>\n",
              "      <th>country</th>\n",
              "      <th>province</th>\n",
              "      <th>region_1</th>\n",
              "      <th>region_2</th>\n",
              "    </tr>\n",
              "  </thead>\n",
              "  <tbody>\n",
              "    <tr>\n",
              "      <th>0</th>\n",
              "      <td>Italy</td>\n",
              "      <td>Sicily &amp; Sardinia</td>\n",
              "      <td>Etna</td>\n",
              "      <td>NaN</td>\n",
              "    </tr>\n",
              "    <tr>\n",
              "      <th>2</th>\n",
              "      <td>US</td>\n",
              "      <td>Oregon</td>\n",
              "      <td>Willamette Valley</td>\n",
              "      <td>Willamette Valley</td>\n",
              "    </tr>\n",
              "    <tr>\n",
              "      <th>20</th>\n",
              "      <td>US</td>\n",
              "      <td>Virginia</td>\n",
              "      <td>Virginia</td>\n",
              "      <td>NaN</td>\n",
              "    </tr>\n",
              "    <tr>\n",
              "      <th>200</th>\n",
              "      <td>Italy</td>\n",
              "      <td>Tuscany</td>\n",
              "      <td>Brunello di Montalcino</td>\n",
              "      <td>NaN</td>\n",
              "    </tr>\n",
              "  </tbody>\n",
              "</table>\n",
              "</div>"
            ],
            "text/plain": [
              "    country           province                region_1           region_2\n",
              "0     Italy  Sicily & Sardinia                    Etna                NaN\n",
              "2        US             Oregon       Willamette Valley  Willamette Valley\n",
              "20       US           Virginia                Virginia                NaN\n",
              "200   Italy            Tuscany  Brunello di Montalcino                NaN"
            ]
          },
          "metadata": {
            "tags": []
          },
          "execution_count": 10
        }
      ]
    },
    {
      "metadata": {
        "id": "nwnj42P7dC9n",
        "colab_type": "code",
        "colab": {}
      },
      "cell_type": "code",
      "source": [
        "# Expected Output:\n",
        "image_url = \"https://github.com/wshuyi/github_pub_img/raw/master/assets/2019-02-18-10-24-23-881864.png\"\n",
        "from IPython.display import Image\n",
        "Image(image_url)"
      ],
      "execution_count": 0,
      "outputs": []
    },
    {
      "metadata": {
        "id": "G_VHzIziQnHY",
        "colab_type": "text"
      },
      "cell_type": "markdown",
      "source": [
        "**Question 10.** Create a variable `df` containing the `country` and `variety` columns of the first 100 records. Show the shape of `df`."
      ]
    },
    {
      "metadata": {
        "colab_type": "code",
        "id": "qwDRwkt0XXwY",
        "colab": {
          "base_uri": "https://localhost:8080/",
          "height": 35
        },
        "outputId": "6d4db5cd-46ce-4636-a0bb-1eedc4c3aa2a"
      },
      "cell_type": "code",
      "source": [
        "col_keep=['country','variety']\n",
        "df=reviews[col_keep]\n",
        "df=df.head(100)\n",
        "df.shape"
      ],
      "execution_count": 12,
      "outputs": [
        {
          "output_type": "execute_result",
          "data": {
            "text/plain": [
              "(100, 2)"
            ]
          },
          "metadata": {
            "tags": []
          },
          "execution_count": 12
        }
      ]
    },
    {
      "metadata": {
        "id": "qB3NnyugdF3B",
        "colab_type": "code",
        "colab": {}
      },
      "cell_type": "code",
      "source": [
        "# Expected Output:\n",
        "image_url = \"https://github.com/wshuyi/github_pub_img/raw/master/assets/2019-02-18-10-24-36-554850.png\"\n",
        "from IPython.display import Image\n",
        "Image(image_url)"
      ],
      "execution_count": 0,
      "outputs": []
    },
    {
      "metadata": {
        "id": "kdXXjNbrRHJQ",
        "colab_type": "text"
      },
      "cell_type": "markdown",
      "source": [
        "**Question 11.** Create a DataFrame `france_wines` containing reviews of wines made in `France`. Show the shape of `france_wines`."
      ]
    },
    {
      "metadata": {
        "colab_type": "code",
        "id": "Qj0i2yHlXYRa",
        "colab": {
          "base_uri": "https://localhost:8080/",
          "height": 35
        },
        "outputId": "49034f07-e89b-4719-e389-6680ad864b03"
      },
      "cell_type": "code",
      "source": [
        "france_wines=reviews[reviews.country=='France']\n",
        "france_wines.shape"
      ],
      "execution_count": 14,
      "outputs": [
        {
          "output_type": "execute_result",
          "data": {
            "text/plain": [
              "(22093, 14)"
            ]
          },
          "metadata": {
            "tags": []
          },
          "execution_count": 14
        }
      ]
    },
    {
      "metadata": {
        "id": "f-bb0pA9dIa1",
        "colab_type": "code",
        "colab": {}
      },
      "cell_type": "code",
      "source": [
        "# Expected Output:\n",
        "image_url = \"https://github.com/wshuyi/github_pub_img/raw/master/assets/2019-02-18-10-24-49-026089.png\"\n",
        "from IPython.display import Image\n",
        "Image(image_url)"
      ],
      "execution_count": 0,
      "outputs": []
    },
    {
      "metadata": {
        "id": "BtH67scWR6Q0",
        "colab_type": "text"
      },
      "cell_type": "markdown",
      "source": [
        "**Question 12.** Create a DataFrame `top_north_america_wines` containing all reviews with at least 95 points (out of 100) for wines from US or Canada. Show the shape of `top_north_america_wines`."
      ]
    },
    {
      "metadata": {
        "colab_type": "code",
        "id": "8lLrtjfZXY5A",
        "colab": {
          "base_uri": "https://localhost:8080/",
          "height": 35
        },
        "outputId": "960dfac8-9421-47ab-e097-5ae11de0e917"
      },
      "cell_type": "code",
      "source": [
        "top_north_america_wines = reviews[(reviews.points>= 95) & ((reviews.country=='US') | (reviews.country == 'Canada') )]\n",
        "top_north_america_wines.shape"
      ],
      "execution_count": 23,
      "outputs": [
        {
          "output_type": "execute_result",
          "data": {
            "text/plain": [
              "(993, 14)"
            ]
          },
          "metadata": {
            "tags": []
          },
          "execution_count": 23
        }
      ]
    },
    {
      "metadata": {
        "id": "Hs_AHPJkdL8e",
        "colab_type": "code",
        "colab": {}
      },
      "cell_type": "code",
      "source": [
        "# Expected Output:\n",
        "image_url = \"https://github.com/wshuyi/github_pub_img/raw/master/assets/2019-02-18-10-24-59-291835.png\"\n",
        "from IPython.display import Image\n",
        "Image(image_url)"
      ],
      "execution_count": 0,
      "outputs": []
    },
    {
      "metadata": {
        "id": "LOyxmO1jS1hw",
        "colab_type": "text"
      },
      "cell_type": "markdown",
      "source": [
        "**Question 13.** What is the minimum value of the points column in the reviews DataFrame?"
      ]
    },
    {
      "metadata": {
        "colab_type": "code",
        "id": "0DBqUOWXXZWF",
        "colab": {
          "base_uri": "https://localhost:8080/",
          "height": 35
        },
        "outputId": "49337bca-5b3a-49f5-f0ad-385d065dedaf"
      },
      "cell_type": "code",
      "source": [
        "reviews['points'].min()"
      ],
      "execution_count": 16,
      "outputs": [
        {
          "output_type": "execute_result",
          "data": {
            "text/plain": [
              "80"
            ]
          },
          "metadata": {
            "tags": []
          },
          "execution_count": 16
        }
      ]
    },
    {
      "metadata": {
        "id": "vKQo3CFpdUl2",
        "colab_type": "code",
        "colab": {}
      },
      "cell_type": "code",
      "source": [
        "# Expected Output:\n",
        "image_url = \"https://github.com/wshuyi/github_pub_img/raw/master/assets/2019-02-18-10-25-07-722360.png\"\n",
        "from IPython.display import Image\n",
        "Image(image_url)"
      ],
      "execution_count": 0,
      "outputs": []
    },
    {
      "metadata": {
        "id": "MX_JIp-MS_Wf",
        "colab_type": "text"
      },
      "cell_type": "markdown",
      "source": [
        "**Question 14.** What countries are represented in the dataset? (Your answer should not include any duplicates.)"
      ]
    },
    {
      "metadata": {
        "colab_type": "code",
        "id": "qCkLxWp5XZzn",
        "colab": {
          "base_uri": "https://localhost:8080/",
          "height": 173
        },
        "outputId": "3035af8e-9625-44d1-9d09-3be01867d8a2"
      },
      "cell_type": "code",
      "source": [
        "reviews.country.unique()"
      ],
      "execution_count": 18,
      "outputs": [
        {
          "output_type": "execute_result",
          "data": {
            "text/plain": [
              "array(['Italy', 'Portugal', 'US', 'Spain', 'France', 'Germany',\n",
              "       'Argentina', 'Chile', 'Australia', 'Austria', 'South Africa',\n",
              "       'New Zealand', 'Israel', 'Hungary', 'Greece', 'Romania', 'Mexico',\n",
              "       'Canada', nan, 'Turkey', 'Czech Republic', 'Slovenia',\n",
              "       'Luxembourg', 'Croatia', 'Georgia', 'Uruguay', 'England',\n",
              "       'Lebanon', 'Serbia', 'Brazil', 'Moldova', 'Morocco', 'Peru',\n",
              "       'India', 'Bulgaria', 'Cyprus', 'Armenia', 'Switzerland',\n",
              "       'Bosnia and Herzegovina', 'Ukraine', 'Slovakia', 'Macedonia',\n",
              "       'China', 'Egypt'], dtype=object)"
            ]
          },
          "metadata": {
            "tags": []
          },
          "execution_count": 18
        }
      ]
    },
    {
      "metadata": {
        "id": "KWw-LwoVdXut",
        "colab_type": "code",
        "colab": {}
      },
      "cell_type": "code",
      "source": [
        "# Expected Output:\n",
        "image_url = \"https://github.com/wshuyi/github_pub_img/raw/master/assets/2019-02-18-10-25-17-210421.png\"\n",
        "from IPython.display import Image\n",
        "Image(image_url)"
      ],
      "execution_count": 0,
      "outputs": []
    },
    {
      "metadata": {
        "id": "N4drEZ3XTJ_w",
        "colab_type": "text"
      },
      "cell_type": "markdown",
      "source": [
        "**Question 15.** How often does each country appear in the dataset? Create a Series `reviews_per_country` mapping countries to the count of reviews of wines from that country. Show the first 10 rows of `reviews_per_country`."
      ]
    },
    {
      "metadata": {
        "colab_type": "code",
        "id": "9EVSTey8XaTe",
        "colab": {
          "base_uri": "https://localhost:8080/",
          "height": 225
        },
        "outputId": "b670c6c6-e02f-40e2-e97d-2009a4fb6111"
      },
      "cell_type": "code",
      "source": [
        "a=reviews.groupby('country').country.count()\n",
        "reviews_per_country=a.sort_values(ascending=False)\n",
        "reviews_per_country.head(10)"
      ],
      "execution_count": 30,
      "outputs": [
        {
          "output_type": "execute_result",
          "data": {
            "text/plain": [
              "country\n",
              "US           54504\n",
              "France       22093\n",
              "Italy        19540\n",
              "Spain         6645\n",
              "Portugal      5691\n",
              "Chile         4472\n",
              "Argentina     3800\n",
              "Austria       3345\n",
              "Australia     2329\n",
              "Germany       2165\n",
              "Name: country, dtype: int64"
            ]
          },
          "metadata": {
            "tags": []
          },
          "execution_count": 30
        }
      ]
    },
    {
      "metadata": {
        "id": "pZoH_XEJdaTb",
        "colab_type": "code",
        "colab": {}
      },
      "cell_type": "code",
      "source": [
        "# Expected Output:\n",
        "image_url = \"https://github.com/wshuyi/github_pub_img/raw/master/assets/2019-02-18-10-25-25-429171.png\"\n",
        "from IPython.display import Image\n",
        "Image(image_url)"
      ],
      "execution_count": 0,
      "outputs": []
    },
    {
      "metadata": {
        "id": "OkItiZ9bTXbY",
        "colab_type": "text"
      },
      "cell_type": "markdown",
      "source": [
        "**Question 16.** Create variable `centered_price` containing a version of the `price` column with the mean price subtracted. Show the first 10 rows of `centered_price`."
      ]
    },
    {
      "metadata": {
        "colab_type": "code",
        "id": "wkhpuwJyXa3G",
        "colab": {
          "base_uri": "https://localhost:8080/",
          "height": 208
        },
        "outputId": "77500cd1-c28d-4e35-a67d-42ed30863671"
      },
      "cell_type": "code",
      "source": [
        "mean1=reviews['price'].mean()\n",
        "centered_price=reviews['price']-mean1\n",
        "centered_price.head(10)"
      ],
      "execution_count": 26,
      "outputs": [
        {
          "output_type": "execute_result",
          "data": {
            "text/plain": [
              "0          NaN\n",
              "1   -20.363389\n",
              "2   -21.363389\n",
              "3   -22.363389\n",
              "4    29.636611\n",
              "5   -20.363389\n",
              "6   -19.363389\n",
              "7   -11.363389\n",
              "8   -23.363389\n",
              "9    -8.363389\n",
              "Name: price, dtype: float64"
            ]
          },
          "metadata": {
            "tags": []
          },
          "execution_count": 26
        }
      ]
    },
    {
      "metadata": {
        "id": "7ghmK9B6dczN",
        "colab_type": "code",
        "colab": {}
      },
      "cell_type": "code",
      "source": [
        "# Expected Output:\n",
        "image_url = \"https://github.com/wshuyi/github_pub_img/raw/master/assets/2019-02-18-10-25-34-260297.png\"\n",
        "from IPython.display import Image\n",
        "Image(image_url)"
      ],
      "execution_count": 0,
      "outputs": []
    },
    {
      "metadata": {
        "id": "Hb8pgT_3T2Pl",
        "colab_type": "text"
      },
      "cell_type": "markdown",
      "source": [
        "**Question 17.** Create a variable `bargain_wine` with the title of the wine with the highest points-to-price ratio in the dataset. Show the value of `bargain_wine`."
      ]
    },
    {
      "metadata": {
        "colab_type": "code",
        "id": "WeLLzohEXbwM",
        "colab": {
          "base_uri": "https://localhost:8080/",
          "height": 35
        },
        "outputId": "29257228-ecc3-4be2-aa2c-9452e94625c8"
      },
      "cell_type": "code",
      "source": [
        "reviews['points-to-price']= reviews['points']/reviews['price']\n",
        "value=reviews['points-to-price'].idxmax()\n",
        "bargain_wine= reviews.title[value]\n",
        "bargain_wine"
      ],
      "execution_count": 25,
      "outputs": [
        {
          "output_type": "execute_result",
          "data": {
            "text/plain": [
              "'Bandit NV Merlot (California)'"
            ]
          },
          "metadata": {
            "tags": []
          },
          "execution_count": 25
        }
      ]
    },
    {
      "metadata": {
        "id": "zIoymH_Gde7y",
        "colab_type": "code",
        "colab": {}
      },
      "cell_type": "code",
      "source": [
        "# Expected Output:\n",
        "image_url = \"https://github.com/wshuyi/github_pub_img/raw/master/assets/2019-02-18-10-25-45-425172.png\"\n",
        "from IPython.display import Image\n",
        "Image(image_url)"
      ],
      "execution_count": 0,
      "outputs": []
    },
    {
      "metadata": {
        "id": "WmeqXrx2U5_X",
        "colab_type": "text"
      },
      "cell_type": "markdown",
      "source": [
        "**Question 18.** Is a wine more likely to be \"tropical\" or \"fruity\"? Create a Series `descriptor_counts` counting how many times each of these two words appears in the description column in the dataset. Show the content of `descriptor_counts`."
      ]
    },
    {
      "metadata": {
        "colab_type": "code",
        "id": "zDxikAMBXcVF",
        "colab": {}
      },
      "cell_type": "code",
      "source": [
        ""
      ],
      "execution_count": 0,
      "outputs": []
    },
    {
      "metadata": {
        "id": "XVg01XtddhOv",
        "colab_type": "code",
        "colab": {}
      },
      "cell_type": "code",
      "source": [
        "# Expected Output:\n",
        "image_url = \"https://github.com/wshuyi/github_pub_img/raw/master/assets/2019-02-18-10-25-56-543545.png\"\n",
        "from IPython.display import Image\n",
        "Image(image_url)"
      ],
      "execution_count": 0,
      "outputs": []
    },
    {
      "metadata": {
        "id": "sHhgidRBBgih",
        "colab_type": "text"
      },
      "cell_type": "markdown",
      "source": [
        "**Question 19.** Sometimes the price column is null. How many reviews in the dataset are missing a price?"
      ]
    },
    {
      "metadata": {
        "colab_type": "code",
        "id": "7Q_D-rdfXc7D",
        "colab": {
          "base_uri": "https://localhost:8080/",
          "height": 35
        },
        "outputId": "507c1089-de3e-4b54-e619-827795c4f2f1"
      },
      "cell_type": "code",
      "source": [
        "reviews.price.isnull().sum(axis=0)"
      ],
      "execution_count": 27,
      "outputs": [
        {
          "output_type": "execute_result",
          "data": {
            "text/plain": [
              "8996"
            ]
          },
          "metadata": {
            "tags": []
          },
          "execution_count": 27
        }
      ]
    },
    {
      "metadata": {
        "id": "YF8MDwvRdjil",
        "colab_type": "code",
        "colab": {}
      },
      "cell_type": "code",
      "source": [
        "# Expected Output:\n",
        "image_url = \"https://github.com/wshuyi/github_pub_img/raw/master/assets/2019-02-18-10-26-07-921120.png\"\n",
        "from IPython.display import Image\n",
        "Image(image_url)"
      ],
      "execution_count": 0,
      "outputs": []
    },
    {
      "metadata": {
        "id": "qNNNW2pxCy5g",
        "colab_type": "text"
      },
      "cell_type": "markdown",
      "source": [
        "**Question 20.** What are the most common wine-producing regions? Create a `Series` counting the number of times each value occurs in the `region_1` field. This field is often missing data, so replace missing values with `Unknown`. Sort in descending order. Show the first 10 rows of the series."
      ]
    },
    {
      "metadata": {
        "colab_type": "code",
        "id": "x_yQWKbWXdW8",
        "colab": {}
      },
      "cell_type": "code",
      "source": [
        ""
      ],
      "execution_count": 0,
      "outputs": []
    },
    {
      "metadata": {
        "id": "u1sJt5_8dm4G",
        "colab_type": "code",
        "colab": {}
      },
      "cell_type": "code",
      "source": [
        "# Expected Output:\n",
        "image_url = \"https://github.com/wshuyi/github_pub_img/raw/master/assets/2019-02-18-10-26-19-518545.png\"\n",
        "from IPython.display import Image\n",
        "Image(image_url)"
      ],
      "execution_count": 0,
      "outputs": []
    },
    {
      "metadata": {
        "id": "MVws7H5u-iVp",
        "colab_type": "text"
      },
      "cell_type": "markdown",
      "source": [
        "**Question 21.** Who are the most common wine reviewers in the dataset? Create a `Series` whose index is the `taster_twitter_handle` category from the dataset, and whose values count how many reviews each person wrote. Show the series."
      ]
    },
    {
      "metadata": {
        "colab_type": "code",
        "id": "3LUo7_L7XeAp",
        "colab": {}
      },
      "cell_type": "code",
      "source": [
        ""
      ],
      "execution_count": 0,
      "outputs": []
    },
    {
      "metadata": {
        "id": "mrCz-Dyvdph8",
        "colab_type": "code",
        "colab": {}
      },
      "cell_type": "code",
      "source": [
        "# Expected Output:\n",
        "image_url = \"https://github.com/wshuyi/github_pub_img/raw/master/assets/2019-02-18-10-26-32-243770.png\"\n",
        "from IPython.display import Image\n",
        "Image(image_url)"
      ],
      "execution_count": 0,
      "outputs": []
    },
    {
      "metadata": {
        "id": "hMslbuXrB9XH",
        "colab_type": "text"
      },
      "cell_type": "markdown",
      "source": [
        "**Question 22.** What is the best wine I can buy for a given amount of money? Create a `Series` whose index is wine prices and whose values is the maximum number of points a wine costing that much was given in a review. Sort the values by price, Descending (so that `3300.0` dollars is at the top and `4.0` dollars is at the bottom). Show the first 5 rows of the series."
      ]
    },
    {
      "metadata": {
        "colab_type": "code",
        "id": "9jRym3pNXelc",
        "colab": {}
      },
      "cell_type": "code",
      "source": [
        ""
      ],
      "execution_count": 0,
      "outputs": []
    },
    {
      "metadata": {
        "id": "pNemORACdtnz",
        "colab_type": "code",
        "colab": {}
      },
      "cell_type": "code",
      "source": [
        "# Expected Output:\n",
        "image_url = \"https://github.com/wshuyi/github_pub_img/raw/master/assets/2019-02-18-10-26-40-741397.png\"\n",
        "from IPython.display import Image\n",
        "Image(image_url)"
      ],
      "execution_count": 0,
      "outputs": []
    },
    {
      "metadata": {
        "id": "AEhk3H2NCfNt",
        "colab_type": "text"
      },
      "cell_type": "markdown",
      "source": [
        "**Question 23.** What are the minimum, maximum and median prices for each `variety` of wine? Create a `DataFrame` whose index is the `variety` category from the dataset and whose values are the `min`, `max` and `medium` values thereof. Show the 5 rows of the dataframe."
      ]
    },
    {
      "metadata": {
        "colab_type": "code",
        "id": "oPGnkUYjXfG4",
        "colab": {
          "base_uri": "https://localhost:8080/",
          "height": 233
        },
        "outputId": "bcac8275-7c05-448d-955e-e628942c0590"
      },
      "cell_type": "code",
      "source": [
        "reviews.groupby('variety').price.agg(['min','max','median']).head()"
      ],
      "execution_count": 29,
      "outputs": [
        {
          "output_type": "execute_result",
          "data": {
            "text/html": [
              "<div>\n",
              "<style scoped>\n",
              "    .dataframe tbody tr th:only-of-type {\n",
              "        vertical-align: middle;\n",
              "    }\n",
              "\n",
              "    .dataframe tbody tr th {\n",
              "        vertical-align: top;\n",
              "    }\n",
              "\n",
              "    .dataframe thead th {\n",
              "        text-align: right;\n",
              "    }\n",
              "</style>\n",
              "<table border=\"1\" class=\"dataframe\">\n",
              "  <thead>\n",
              "    <tr style=\"text-align: right;\">\n",
              "      <th></th>\n",
              "      <th>min</th>\n",
              "      <th>max</th>\n",
              "      <th>median</th>\n",
              "    </tr>\n",
              "    <tr>\n",
              "      <th>variety</th>\n",
              "      <th></th>\n",
              "      <th></th>\n",
              "      <th></th>\n",
              "    </tr>\n",
              "  </thead>\n",
              "  <tbody>\n",
              "    <tr>\n",
              "      <th>Abouriou</th>\n",
              "      <td>15.0</td>\n",
              "      <td>75.0</td>\n",
              "      <td>15.0</td>\n",
              "    </tr>\n",
              "    <tr>\n",
              "      <th>Agiorgitiko</th>\n",
              "      <td>10.0</td>\n",
              "      <td>66.0</td>\n",
              "      <td>20.0</td>\n",
              "    </tr>\n",
              "    <tr>\n",
              "      <th>Aglianico</th>\n",
              "      <td>6.0</td>\n",
              "      <td>180.0</td>\n",
              "      <td>33.5</td>\n",
              "    </tr>\n",
              "    <tr>\n",
              "      <th>Aidani</th>\n",
              "      <td>27.0</td>\n",
              "      <td>27.0</td>\n",
              "      <td>27.0</td>\n",
              "    </tr>\n",
              "    <tr>\n",
              "      <th>Airen</th>\n",
              "      <td>8.0</td>\n",
              "      <td>10.0</td>\n",
              "      <td>9.0</td>\n",
              "    </tr>\n",
              "  </tbody>\n",
              "</table>\n",
              "</div>"
            ],
            "text/plain": [
              "              min    max  median\n",
              "variety                         \n",
              "Abouriou     15.0   75.0    15.0\n",
              "Agiorgitiko  10.0   66.0    20.0\n",
              "Aglianico     6.0  180.0    33.5\n",
              "Aidani       27.0   27.0    27.0\n",
              "Airen         8.0   10.0     9.0"
            ]
          },
          "metadata": {
            "tags": []
          },
          "execution_count": 29
        }
      ]
    },
    {
      "metadata": {
        "id": "LuYH6K5kdvvH",
        "colab_type": "code",
        "colab": {}
      },
      "cell_type": "code",
      "source": [
        "# Expected Output:\n",
        "image_url = \"https://github.com/wshuyi/github_pub_img/raw/master/assets/2019-02-18-10-27-01-991324.png\"\n",
        "from IPython.display import Image\n",
        "Image(image_url)"
      ],
      "execution_count": 0,
      "outputs": []
    },
    {
      "metadata": {
        "id": "vUeHL6ZNGiXz",
        "colab_type": "text"
      },
      "cell_type": "markdown",
      "source": [
        "**Question 24.** What are the most expensive wine varieties? Create a variable `sorted_varieties` containing a copy of the dataframe from the previous question where varieties are sorted in descending order based on minimum price, then on maximum price (to break ties). Show the 5 rows of the dataframe."
      ]
    },
    {
      "metadata": {
        "colab_type": "code",
        "id": "9HMY8ioPXf0p",
        "colab": {}
      },
      "cell_type": "code",
      "source": [
        ""
      ],
      "execution_count": 0,
      "outputs": []
    },
    {
      "metadata": {
        "id": "qanE3Hnxd0nU",
        "colab_type": "code",
        "colab": {}
      },
      "cell_type": "code",
      "source": [
        "# Expected Output:\n",
        "image_url = \"https://github.com/wshuyi/github_pub_img/raw/master/assets/2019-02-18-10-27-12-370129.png\"\n",
        "from IPython.display import Image\n",
        "Image(image_url)"
      ],
      "execution_count": 0,
      "outputs": []
    },
    {
      "metadata": {
        "id": "WFcue3FdHeoc",
        "colab_type": "text"
      },
      "cell_type": "markdown",
      "source": [
        "**Question 25.** Create a Series whose index is reviewers and whose values is the average review score given out by that reviewer. Show the first 5 rows of the series (Hint: name of reviewer is in `taster_name`.)"
      ]
    },
    {
      "metadata": {
        "colab_type": "code",
        "id": "zA6DhhyzXgeY",
        "colab": {
          "base_uri": "https://localhost:8080/",
          "height": 139
        },
        "outputId": "dab5cf6f-a564-496e-e917-68a356186a00"
      },
      "cell_type": "code",
      "source": [
        "reviews.groupby('taster_name').points.mean().head()"
      ],
      "execution_count": 28,
      "outputs": [
        {
          "output_type": "execute_result",
          "data": {
            "text/plain": [
              "taster_name\n",
              "Alexander Peartree    85.855422\n",
              "Anna Lee C. Iijima    88.415629\n",
              "Anne Krebiehl MW      90.562551\n",
              "Carrie Dykes          86.395683\n",
              "Christina Pickard     87.833333\n",
              "Name: points, dtype: float64"
            ]
          },
          "metadata": {
            "tags": []
          },
          "execution_count": 28
        }
      ]
    },
    {
      "metadata": {
        "id": "BNM0Pz0gd3zo",
        "colab_type": "code",
        "colab": {}
      },
      "cell_type": "code",
      "source": [
        "# Expected Output:\n",
        "image_url = \"https://github.com/wshuyi/github_pub_img/raw/master/assets/2019-02-18-10-27-35-752685.png\"\n",
        "from IPython.display import Image\n",
        "Image(image_url)"
      ],
      "execution_count": 0,
      "outputs": []
    },
    {
      "metadata": {
        "id": "PPK_WSfh_1Tq",
        "colab_type": "text"
      },
      "cell_type": "markdown",
      "source": [
        "**Question 26.** What combination of countries and varieties are most common? Create a `Series` whose index is a `MultiIndex`of `{country, variety}` pairs. For example, a pinot noir produced in the US should map to `{\"US\", \"Pinot Noir\"}`. Sort the values in the `Series` in descending order based on wine count. Show the first 10 rows of the series."
      ]
    },
    {
      "metadata": {
        "colab_type": "code",
        "id": "9gfF9jcfXg-R",
        "colab": {}
      },
      "cell_type": "code",
      "source": [
        ""
      ],
      "execution_count": 0,
      "outputs": []
    },
    {
      "metadata": {
        "id": "l0GMu9VTd74H",
        "colab_type": "code",
        "colab": {}
      },
      "cell_type": "code",
      "source": [
        "# Expected Output:\n",
        "image_url = \"https://github.com/wshuyi/github_pub_img/raw/master/assets/2019-02-18-10-27-42-958620.png\"\n",
        "from IPython.display import Image\n",
        "Image(image_url)"
      ],
      "execution_count": 0,
      "outputs": []
    },
    {
      "metadata": {
        "id": "zxjiMPEaF9hY",
        "colab_type": "text"
      },
      "cell_type": "markdown",
      "source": [
        "**Question 27.** `region_1` and `region_2` are pretty uninformative names for locale columns in the dataset. Create a copy of `reviews` with these columns renamed to `region` and `locale`, respectively. Show the first 5 rows of the renamed dataframe."
      ]
    },
    {
      "metadata": {
        "colab_type": "code",
        "id": "suFObsSmXhv8",
        "colab": {
          "base_uri": "https://localhost:8080/",
          "height": 655
        },
        "outputId": "2c1658bf-e88d-4a01-f2e3-17cc7de28656"
      },
      "cell_type": "code",
      "source": [
        "reviwes_copy=reviews.rename(columns={'region_1':'region','region_2':'locale'})\n",
        "reviwes_copy.head()"
      ],
      "execution_count": 24,
      "outputs": [
        {
          "output_type": "execute_result",
          "data": {
            "text/html": [
              "<div>\n",
              "<style scoped>\n",
              "    .dataframe tbody tr th:only-of-type {\n",
              "        vertical-align: middle;\n",
              "    }\n",
              "\n",
              "    .dataframe tbody tr th {\n",
              "        vertical-align: top;\n",
              "    }\n",
              "\n",
              "    .dataframe thead th {\n",
              "        text-align: right;\n",
              "    }\n",
              "</style>\n",
              "<table border=\"1\" class=\"dataframe\">\n",
              "  <thead>\n",
              "    <tr style=\"text-align: right;\">\n",
              "      <th></th>\n",
              "      <th>Unnamed: 0</th>\n",
              "      <th>country</th>\n",
              "      <th>description</th>\n",
              "      <th>designation</th>\n",
              "      <th>points</th>\n",
              "      <th>price</th>\n",
              "      <th>province</th>\n",
              "      <th>region</th>\n",
              "      <th>locale</th>\n",
              "      <th>taster_name</th>\n",
              "      <th>taster_twitter_handle</th>\n",
              "      <th>title</th>\n",
              "      <th>variety</th>\n",
              "      <th>winery</th>\n",
              "    </tr>\n",
              "  </thead>\n",
              "  <tbody>\n",
              "    <tr>\n",
              "      <th>0</th>\n",
              "      <td>0</td>\n",
              "      <td>Italy</td>\n",
              "      <td>Aromas include tropical fruit, broom, brimston...</td>\n",
              "      <td>Vulkà Bianco</td>\n",
              "      <td>87</td>\n",
              "      <td>NaN</td>\n",
              "      <td>Sicily &amp; Sardinia</td>\n",
              "      <td>Etna</td>\n",
              "      <td>NaN</td>\n",
              "      <td>Kerin O’Keefe</td>\n",
              "      <td>@kerinokeefe</td>\n",
              "      <td>Nicosia 2013 Vulkà Bianco  (Etna)</td>\n",
              "      <td>White Blend</td>\n",
              "      <td>Nicosia</td>\n",
              "    </tr>\n",
              "    <tr>\n",
              "      <th>1</th>\n",
              "      <td>1</td>\n",
              "      <td>Portugal</td>\n",
              "      <td>This is ripe and fruity, a wine that is smooth...</td>\n",
              "      <td>Avidagos</td>\n",
              "      <td>87</td>\n",
              "      <td>15.0</td>\n",
              "      <td>Douro</td>\n",
              "      <td>NaN</td>\n",
              "      <td>NaN</td>\n",
              "      <td>Roger Voss</td>\n",
              "      <td>@vossroger</td>\n",
              "      <td>Quinta dos Avidagos 2011 Avidagos Red (Douro)</td>\n",
              "      <td>Portuguese Red</td>\n",
              "      <td>Quinta dos Avidagos</td>\n",
              "    </tr>\n",
              "    <tr>\n",
              "      <th>2</th>\n",
              "      <td>2</td>\n",
              "      <td>US</td>\n",
              "      <td>Tart and snappy, the flavors of lime flesh and...</td>\n",
              "      <td>NaN</td>\n",
              "      <td>87</td>\n",
              "      <td>14.0</td>\n",
              "      <td>Oregon</td>\n",
              "      <td>Willamette Valley</td>\n",
              "      <td>Willamette Valley</td>\n",
              "      <td>Paul Gregutt</td>\n",
              "      <td>@paulgwine</td>\n",
              "      <td>Rainstorm 2013 Pinot Gris (Willamette Valley)</td>\n",
              "      <td>Pinot Gris</td>\n",
              "      <td>Rainstorm</td>\n",
              "    </tr>\n",
              "    <tr>\n",
              "      <th>3</th>\n",
              "      <td>3</td>\n",
              "      <td>US</td>\n",
              "      <td>Pineapple rind, lemon pith and orange blossom ...</td>\n",
              "      <td>Reserve Late Harvest</td>\n",
              "      <td>87</td>\n",
              "      <td>13.0</td>\n",
              "      <td>Michigan</td>\n",
              "      <td>Lake Michigan Shore</td>\n",
              "      <td>NaN</td>\n",
              "      <td>Alexander Peartree</td>\n",
              "      <td>NaN</td>\n",
              "      <td>St. Julian 2013 Reserve Late Harvest Riesling ...</td>\n",
              "      <td>Riesling</td>\n",
              "      <td>St. Julian</td>\n",
              "    </tr>\n",
              "    <tr>\n",
              "      <th>4</th>\n",
              "      <td>4</td>\n",
              "      <td>US</td>\n",
              "      <td>Much like the regular bottling from 2012, this...</td>\n",
              "      <td>Vintner's Reserve Wild Child Block</td>\n",
              "      <td>87</td>\n",
              "      <td>65.0</td>\n",
              "      <td>Oregon</td>\n",
              "      <td>Willamette Valley</td>\n",
              "      <td>Willamette Valley</td>\n",
              "      <td>Paul Gregutt</td>\n",
              "      <td>@paulgwine</td>\n",
              "      <td>Sweet Cheeks 2012 Vintner's Reserve Wild Child...</td>\n",
              "      <td>Pinot Noir</td>\n",
              "      <td>Sweet Cheeks</td>\n",
              "    </tr>\n",
              "  </tbody>\n",
              "</table>\n",
              "</div>"
            ],
            "text/plain": [
              "   Unnamed: 0   country                                        description  \\\n",
              "0           0     Italy  Aromas include tropical fruit, broom, brimston...   \n",
              "1           1  Portugal  This is ripe and fruity, a wine that is smooth...   \n",
              "2           2        US  Tart and snappy, the flavors of lime flesh and...   \n",
              "3           3        US  Pineapple rind, lemon pith and orange blossom ...   \n",
              "4           4        US  Much like the regular bottling from 2012, this...   \n",
              "\n",
              "                          designation  points  price           province  \\\n",
              "0                        Vulkà Bianco      87    NaN  Sicily & Sardinia   \n",
              "1                            Avidagos      87   15.0              Douro   \n",
              "2                                 NaN      87   14.0             Oregon   \n",
              "3                Reserve Late Harvest      87   13.0           Michigan   \n",
              "4  Vintner's Reserve Wild Child Block      87   65.0             Oregon   \n",
              "\n",
              "                region             locale         taster_name  \\\n",
              "0                 Etna                NaN       Kerin O’Keefe   \n",
              "1                  NaN                NaN          Roger Voss   \n",
              "2    Willamette Valley  Willamette Valley        Paul Gregutt   \n",
              "3  Lake Michigan Shore                NaN  Alexander Peartree   \n",
              "4    Willamette Valley  Willamette Valley        Paul Gregutt   \n",
              "\n",
              "  taster_twitter_handle                                              title  \\\n",
              "0          @kerinokeefe                  Nicosia 2013 Vulkà Bianco  (Etna)   \n",
              "1            @vossroger      Quinta dos Avidagos 2011 Avidagos Red (Douro)   \n",
              "2           @paulgwine       Rainstorm 2013 Pinot Gris (Willamette Valley)   \n",
              "3                   NaN  St. Julian 2013 Reserve Late Harvest Riesling ...   \n",
              "4           @paulgwine   Sweet Cheeks 2012 Vintner's Reserve Wild Child...   \n",
              "\n",
              "          variety               winery  \n",
              "0     White Blend              Nicosia  \n",
              "1  Portuguese Red  Quinta dos Avidagos  \n",
              "2      Pinot Gris            Rainstorm  \n",
              "3        Riesling           St. Julian  \n",
              "4      Pinot Noir         Sweet Cheeks  "
            ]
          },
          "metadata": {
            "tags": []
          },
          "execution_count": 24
        }
      ]
    },
    {
      "metadata": {
        "id": "vj9N5aGQd-YM",
        "colab_type": "code",
        "colab": {}
      },
      "cell_type": "code",
      "source": [
        "# Expected Output:\n",
        "image_url = \"https://github.com/wshuyi/github_pub_img/raw/master/assets/2019-02-18-10-27-54-120816.png\"\n",
        "from IPython.display import Image\n",
        "Image(image_url)"
      ],
      "execution_count": 0,
      "outputs": []
    },
    {
      "metadata": {
        "id": "D73vqBKbGOdx",
        "colab_type": "code",
        "colab": {}
      },
      "cell_type": "code",
      "source": [
        ""
      ],
      "execution_count": 0,
      "outputs": []
    }
  ]
}