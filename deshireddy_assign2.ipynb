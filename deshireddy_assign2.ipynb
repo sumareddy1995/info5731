{
 "cells": [
  {
   "cell_type": "markdown",
   "metadata": {},
   "source": [
    "Which of the following statements contain only valid builtin functions in Python 3? If the statement is valid, explain what it does. If it is not valid, explain why not"
   ]
  },
  {
   "cell_type": "code",
   "execution_count": 7,
   "metadata": {},
   "outputs": [
    {
     "data": {
      "text/plain": [
       "True"
      ]
     },
     "execution_count": 7,
     "metadata": {},
     "output_type": "execute_result"
    }
   ],
   "source": [
    "\"A\".isupper()"
   ]
  },
  {
   "cell_type": "markdown",
   "metadata": {},
   "source": [
    "In Python 3.7 version isupper() is a valid built-in function. It checks whether the string is in upper case otr lower case. The value True is returned if the given string is in upper case else the value False is returned."
   ]
  },
  {
   "cell_type": "markdown",
   "metadata": {},
   "source": [
    "1.2 print \"This is my Python class\";"
   ]
  },
  {
   "cell_type": "code",
   "execution_count": 8,
   "metadata": {},
   "outputs": [
    {
     "ename": "SyntaxError",
     "evalue": "Missing parentheses in call to 'print'. Did you mean print(\"This is my Python class\")? (<ipython-input-8-6fbff18deb64>, line 1)",
     "output_type": "error",
     "traceback": [
      "\u001b[1;36m  File \u001b[1;32m\"<ipython-input-8-6fbff18deb64>\"\u001b[1;36m, line \u001b[1;32m1\u001b[0m\n\u001b[1;33m    print \"This is my Python class\";\u001b[0m\n\u001b[1;37m                                  ^\u001b[0m\n\u001b[1;31mSyntaxError\u001b[0m\u001b[1;31m:\u001b[0m Missing parentheses in call to 'print'. Did you mean print(\"This is my Python class\")?\n"
     ]
    }
   ],
   "source": [
    "print \"This is my Python class\";"
   ]
  },
  {
   "cell_type": "markdown",
   "metadata": {},
   "source": [
    "The above code doesnt run in Python 3 because the print statement should have the paranthesis. The above statement will not get any error if we run in Python 2. Either code or kernel can be changed to run it."
   ]
  },
  {
   "cell_type": "markdown",
   "metadata": {},
   "source": [
    "1.3 x == 1 AND y > x"
   ]
  },
  {
   "cell_type": "code",
   "execution_count": 9,
   "metadata": {},
   "outputs": [
    {
     "ename": "SyntaxError",
     "evalue": "invalid syntax (<ipython-input-9-bd4ed8d7ac4f>, line 3)",
     "output_type": "error",
     "traceback": [
      "\u001b[1;36m  File \u001b[1;32m\"<ipython-input-9-bd4ed8d7ac4f>\"\u001b[1;36m, line \u001b[1;32m3\u001b[0m\n\u001b[1;33m    x==1 AND y > x\u001b[0m\n\u001b[1;37m           ^\u001b[0m\n\u001b[1;31mSyntaxError\u001b[0m\u001b[1;31m:\u001b[0m invalid syntax\n"
     ]
    }
   ],
   "source": [
    "y=2\n",
    "x=1\n",
    "x==1 AND y > x"
   ]
  },
  {
   "cell_type": "markdown",
   "metadata": {},
   "source": [
    "As Python is a case sensitive language so the operator AND doesnt work. So, we have to use and."
   ]
  },
  {
   "cell_type": "markdown",
   "metadata": {},
   "source": [
    "1.4 return t[1:]"
   ]
  },
  {
   "cell_type": "code",
   "execution_count": 11,
   "metadata": {},
   "outputs": [
    {
     "data": {
      "text/plain": [
       "('b', 'c', 'd')"
      ]
     },
     "execution_count": 11,
     "metadata": {},
     "output_type": "execute_result"
    }
   ],
   "source": [
    "t=('a','b','c','d')\n",
    "def demo(t):\n",
    "    return t[1:]\n",
    "\n",
    "demo(t)"
   ]
  },
  {
   "cell_type": "markdown",
   "metadata": {},
   "source": [
    "Except the first one the return statement used will return all the contents of the list"
   ]
  },
  {
   "cell_type": "markdown",
   "metadata": {},
   "source": [
    "1.5 if \"fruit\" in \"apple\":"
   ]
  },
  {
   "cell_type": "code",
   "execution_count": 12,
   "metadata": {},
   "outputs": [
    {
     "ename": "SyntaxError",
     "evalue": "unexpected EOF while parsing (<ipython-input-12-2538f8786a40>, line 1)",
     "output_type": "error",
     "traceback": [
      "\u001b[1;36m  File \u001b[1;32m\"<ipython-input-12-2538f8786a40>\"\u001b[1;36m, line \u001b[1;32m1\u001b[0m\n\u001b[1;33m    if \"fruit\" in \"apple\":\u001b[0m\n\u001b[1;37m                          ^\u001b[0m\n\u001b[1;31mSyntaxError\u001b[0m\u001b[1;31m:\u001b[0m unexpected EOF while parsing\n"
     ]
    }
   ],
   "source": [
    "if \"fruit\" in \"apple\":"
   ]
  },
  {
   "cell_type": "markdown",
   "metadata": {},
   "source": [
    "This code checks if the variable 'apple' has the string fruit, if yes it executes the statement under if or else it skips the statements under if."
   ]
  },
  {
   "cell_type": "markdown",
   "metadata": {},
   "source": [
    "1.6 with open(\"myfile.txt\", \"r\") as f:\n",
    " text = f.read().decode(\"UTF-8\")"
   ]
  },
  {
   "cell_type": "code",
   "execution_count": 13,
   "metadata": {},
   "outputs": [
    {
     "ename": "FileNotFoundError",
     "evalue": "[Errno 2] No such file or directory: 'myfile.txt'",
     "output_type": "error",
     "traceback": [
      "\u001b[1;31m---------------------------------------------------------------------------\u001b[0m",
      "\u001b[1;31mFileNotFoundError\u001b[0m                         Traceback (most recent call last)",
      "\u001b[1;32m<ipython-input-13-ac6eb114b367>\u001b[0m in \u001b[0;36m<module>\u001b[1;34m\u001b[0m\n\u001b[1;32m----> 1\u001b[1;33m \u001b[1;32mwith\u001b[0m \u001b[0mopen\u001b[0m\u001b[1;33m(\u001b[0m\u001b[1;34m\"myfile.txt\"\u001b[0m\u001b[1;33m,\u001b[0m \u001b[1;34m\"r\"\u001b[0m\u001b[1;33m)\u001b[0m \u001b[1;32mas\u001b[0m \u001b[0mf\u001b[0m\u001b[1;33m:\u001b[0m\u001b[1;33m\u001b[0m\u001b[1;33m\u001b[0m\u001b[0m\n\u001b[0m\u001b[0;32m      2\u001b[0m    \u001b[0mtext\u001b[0m \u001b[1;33m=\u001b[0m \u001b[0mf\u001b[0m\u001b[1;33m.\u001b[0m\u001b[0mread\u001b[0m\u001b[1;33m(\u001b[0m\u001b[1;33m)\u001b[0m\u001b[1;33m.\u001b[0m\u001b[0mdecode\u001b[0m\u001b[1;33m(\u001b[0m\u001b[1;34m\"UTF-8\"\u001b[0m\u001b[1;33m)\u001b[0m\u001b[1;33m\u001b[0m\u001b[1;33m\u001b[0m\u001b[0m\n",
      "\u001b[1;31mFileNotFoundError\u001b[0m: [Errno 2] No such file or directory: 'myfile.txt'"
     ]
    }
   ],
   "source": [
    " with open(\"myfile.txt\", \"r\") as f:\n",
    "    text = f.read().decode(\"UTF-8\")"
   ]
  },
  {
   "cell_type": "markdown",
   "metadata": {},
   "source": [
    "This code will open the file in read mode and it will decode the text in it."
   ]
  },
  {
   "cell_type": "markdown",
   "metadata": {},
   "source": [
    "1.7 foo == None"
   ]
  },
  {
   "cell_type": "code",
   "execution_count": 14,
   "metadata": {},
   "outputs": [
    {
     "ename": "NameError",
     "evalue": "name 'foo' is not defined",
     "output_type": "error",
     "traceback": [
      "\u001b[1;31m---------------------------------------------------------------------------\u001b[0m",
      "\u001b[1;31mNameError\u001b[0m                                 Traceback (most recent call last)",
      "\u001b[1;32m<ipython-input-14-7c1055c5049e>\u001b[0m in \u001b[0;36m<module>\u001b[1;34m\u001b[0m\n\u001b[1;32m----> 1\u001b[1;33m \u001b[0mfoo\u001b[0m \u001b[1;33m==\u001b[0m \u001b[1;32mNone\u001b[0m\u001b[1;33m\u001b[0m\u001b[1;33m\u001b[0m\u001b[0m\n\u001b[0m",
      "\u001b[1;31mNameError\u001b[0m: name 'foo' is not defined"
     ]
    }
   ],
   "source": [
    "foo == None"
   ]
  },
  {
   "cell_type": "markdown",
   "metadata": {},
   "source": [
    "If foo is None true will be returned or else false will be returned."
   ]
  },
  {
   "cell_type": "code",
   "execution_count": 15,
   "metadata": {},
   "outputs": [
    {
     "ename": "TypeError",
     "evalue": "'str' object does not support item assignment",
     "output_type": "error",
     "traceback": [
      "\u001b[1;31m---------------------------------------------------------------------------\u001b[0m",
      "\u001b[1;31mTypeError\u001b[0m                                 Traceback (most recent call last)",
      "\u001b[1;32m<ipython-input-15-9bb4e55a7bde>\u001b[0m in \u001b[0;36m<module>\u001b[1;34m\u001b[0m\n\u001b[0;32m      1\u001b[0m \u001b[0mname\u001b[0m \u001b[1;33m=\u001b[0m \u001b[1;34m\"My name is Brenda\"\u001b[0m\u001b[1;33m\u001b[0m\u001b[1;33m\u001b[0m\u001b[0m\n\u001b[1;32m----> 2\u001b[1;33m \u001b[0mname\u001b[0m\u001b[1;33m[\u001b[0m\u001b[1;36m0\u001b[0m\u001b[1;33m]\u001b[0m \u001b[1;33m=\u001b[0m \u001b[1;34m\"A\"\u001b[0m\u001b[1;33m\u001b[0m\u001b[1;33m\u001b[0m\u001b[0m\n\u001b[0m",
      "\u001b[1;31mTypeError\u001b[0m: 'str' object does not support item assignment"
     ]
    }
   ],
   "source": [
    "name = \"My name is Brenda\"\n",
    "name[0] = \"A\""
   ]
  },
  {
   "cell_type": "markdown",
   "metadata": {},
   "source": [
    "In Python strings are immutable so we cannot make assignment"
   ]
  },
  {
   "cell_type": "code",
   "execution_count": 16,
   "metadata": {},
   "outputs": [
    {
     "data": {
      "text/plain": [
       "27"
      ]
     },
     "execution_count": 16,
     "metadata": {},
     "output_type": "execute_result"
    }
   ],
   "source": [
    "x = 3\n",
    "x**3"
   ]
  },
  {
   "cell_type": "markdown",
   "metadata": {},
   "source": [
    "This code will return the cube value of the number"
   ]
  },
  {
   "cell_type": "code",
   "execution_count": 17,
   "metadata": {},
   "outputs": [
    {
     "data": {
      "text/plain": [
       "6"
      ]
     },
     "execution_count": 17,
     "metadata": {},
     "output_type": "execute_result"
    }
   ],
   "source": [
    "20%7"
   ]
  },
  {
   "cell_type": "markdown",
   "metadata": {},
   "source": [
    "It returns the remainder value"
   ]
  },
  {
   "cell_type": "markdown",
   "metadata": {},
   "source": [
    "Write a program to prompt for a score between 0 and 100.\n",
    "If the score is out of range, print an error message. If the score is between 0 and 100,\n",
    "print a grade using the following table:Score Grade\n",
    ">= 90 A\n",
    ">= 80 B\n",
    ">= 70 C\n",
    ">= 60 D\n",
    "< 60 F"
   ]
  },
  {
   "cell_type": "code",
   "execution_count": 1,
   "metadata": {},
   "outputs": [
    {
     "name": "stdout",
     "output_type": "stream",
     "text": [
      "Enter Score40\n",
      "F\n"
     ]
    }
   ],
   "source": [
    "a= input('Enter Score')\n",
    "a=float(a)\n",
    "if (a<0 or a>100):\n",
    "    print('score is out of range')\n",
    "elif a >=90:\n",
    "    print('A')\n",
    "elif a >=80:\n",
    "    print('B')\n",
    "elif a >=70:\n",
    "    print('C')\n",
    "elif a >=60:\n",
    "    print('D')\n",
    "elif a <60:\n",
    "    print('F')"
   ]
  },
  {
   "cell_type": "markdown",
   "metadata": {},
   "source": [
    "Write a Python program to generate 12 random numbers\n",
    "between 1 and 100. Sort the list of numbers in ascending order and print it out. Sort\n",
    "the list of numbers in descending order and print it out. Calculate the average for the\n",
    "group and print it out."
   ]
  },
  {
   "cell_type": "code",
   "execution_count": 2,
   "metadata": {},
   "outputs": [
    {
     "name": "stdout",
     "output_type": "stream",
     "text": [
      "asc [10, 11, 12, 13, 19, 45, 61, 62, 68, 81, 93, 94]\n",
      "desc [94, 93, 81, 68, 62, 61, 45, 19, 13, 12, 11, 10]\n",
      "average 47.416666666666664\n"
     ]
    }
   ],
   "source": [
    "import random\n",
    "list=[];\n",
    "sum = 0;\n",
    "for x in range(12):\n",
    "    num = random.randint(1,100);\n",
    "    sum = sum + num ;\n",
    "    list.append(num)\n",
    "\n",
    "list.sort();\n",
    "print('asc',list);\n",
    "list.sort(reverse=True);\n",
    "print('desc',list);\n",
    "print('average',sum/12)"
   ]
  },
  {
   "cell_type": "markdown",
   "metadata": {},
   "source": [
    "The formula that describes the volume V of a sphere with\n",
    "radius r is the following:\n",
    "𝑉 =\n",
    "4\n",
    "3\n",
    "∗ 𝜋 ∗ 𝑟\n",
    "3\n",
    "Write a program to calculate the value of V when r is in the range of 1– 10. Output\n",
    "the result in the following format:\n",
    "r V\n",
    "1 …\n",
    "2 …\n",
    "3 …"
   ]
  },
  {
   "cell_type": "code",
   "execution_count": 3,
   "metadata": {},
   "outputs": [
    {
     "name": "stdout",
     "output_type": "stream",
     "text": [
      "   r     V\n",
      "\n",
      "   1     4.19047619047619\n",
      "   2     33.52380952380952\n",
      "   3     113.14285714285712\n",
      "   4     268.19047619047615\n",
      "   5     523.8095238095237\n",
      "   6     905.142857142857\n",
      "   7     1437.3333333333333\n",
      "   8     2145.523809523809\n",
      "   9     3054.8571428571427\n",
      "   10     4190.47619047619\n"
     ]
    }
   ],
   "source": [
    "print (\"   r     V\\n\")\n",
    "for r in range(1,11):\n",
    "    v = (4/3) * (22/7) * r * r * r\n",
    "    print (\"  \",r,\"   \",v)"
   ]
  },
  {
   "cell_type": "markdown",
   "metadata": {},
   "source": [
    "Write a program that will do the following string\n",
    "formatting tasks:\n",
    "5.1 Ask the user to enter two sentences\n",
    "5.2 Make each sentence into a list. Each element in the list should correspond to\n",
    "a word in the sentence. For example, if the sentence is \"Alas! Am I alive? This\n",
    "is my first python program\", the program should print out ['Alas!', 'Am', 'I',\n",
    "'alive?', 'This', 'is', 'my', 'first', 'python', 'program'] or ['Alas, '!', 'Am', 'I', 'alive,\n",
    "'?', 'This', 'is', 'my', 'first', 'python', 'program']\n",
    "5.3 Compare the two sentences. Print out a list of words that occur in both\n",
    "sentences.\n",
    "5.4 Remove any punctuation from the sentence and print it back out. It should\n",
    "remove at least the following characters, but it can remove more: period(“.”),\n",
    "comma (“,”), semicolon (“;”), and colon (“:”)\n",
    "5.5 Count the number of vowels in the sentences. Print out each vowel and the\n",
    "number of times it appears in the sentences, such as: a:2, e:1, i:0, etc."
   ]
  },
  {
   "cell_type": "markdown",
   "metadata": {},
   "source": [
    "5.1"
   ]
  },
  {
   "cell_type": "code",
   "execution_count": 4,
   "metadata": {},
   "outputs": [
    {
     "name": "stdout",
     "output_type": "stream",
     "text": [
      "Enter first sentence:\n",
      "fgtty$%% suma reddy tgh&(\n",
      "Enter second sentence:\n",
      "suma reddy gduhjd&* \n"
     ]
    }
   ],
   "source": [
    "import string;\n",
    "print(\"Enter first sentence:\");\n",
    "s1 = input();\n",
    "print(\"Enter second sentence:\");\n",
    "s2 = input();"
   ]
  },
  {
   "cell_type": "markdown",
   "metadata": {},
   "source": [
    "5.2"
   ]
  },
  {
   "cell_type": "code",
   "execution_count": 6,
   "metadata": {},
   "outputs": [
    {
     "name": "stdout",
     "output_type": "stream",
     "text": [
      "sentence 1 list = ['fgtty$%%', 'suma', 'reddy', 'tgh&(']\n",
      "sentence 2 list = ['suma', 'reddy', 'gduhjd&*']\n"
     ]
    }
   ],
   "source": [
    "List1 = s1.split();\n",
    "List2 = s2.split();\n",
    "\n",
    "print(\"sentence 1 list =\", List1);\n",
    "print(\"sentence 2 list =\", List2);"
   ]
  },
  {
   "cell_type": "markdown",
   "metadata": {},
   "source": [
    "5.3"
   ]
  },
  {
   "cell_type": "code",
   "execution_count": 7,
   "metadata": {},
   "outputs": [
    {
     "name": "stdout",
     "output_type": "stream",
     "text": [
      "{'reddy', 'suma'}\n"
     ]
    }
   ],
   "source": [
    "both = (set(List1)).intersection(set(List2))\n",
    "if len(both)<=0:\n",
    "    print(\"None\");\n",
    "else:\n",
    "    print(both);"
   ]
  },
  {
   "cell_type": "markdown",
   "metadata": {},
   "source": [
    "5.4"
   ]
  },
  {
   "cell_type": "code",
   "execution_count": 8,
   "metadata": {},
   "outputs": [
    {
     "name": "stdout",
     "output_type": "stream",
     "text": [
      "sentence 1 with out punctuation:  fgtty suma reddy tgh \n",
      "Sentence2 without punctuation:  suma reddy gduhjd \n"
     ]
    }
   ],
   "source": [
    "translator=str.maketrans('','',string.punctuation)\n",
    "string1_nopunc=s1.translate(translator)\n",
    "string2_nopunc=s2.translate(translator)\n",
    "\n",
    "print(\"sentence 1 with out punctuation: \",string1_nopunc,\"\\nSentence2 without punctuation: \",string2_nopunc);"
   ]
  },
  {
   "cell_type": "markdown",
   "metadata": {},
   "source": [
    "5.5"
   ]
  },
  {
   "cell_type": "code",
   "execution_count": 9,
   "metadata": {},
   "outputs": [
    {
     "name": "stdout",
     "output_type": "stream",
     "text": [
      "for 1st sentence: \n",
      "a 1\n",
      "e 1\n",
      "u 1\n",
      "for 2nd sentence: \n",
      "a 1\n",
      "e 1\n",
      "u 2\n"
     ]
    }
   ],
   "source": [
    "from collections import Counter\n",
    "\n",
    "vowels= ['a','e','i','o','u']\n",
    "print(\"for 1st sentence: \")\n",
    "for i in vowels:\n",
    "    if i in s1 :\n",
    "        print(i, s1.lower().count(i))\n",
    "print(\"for 2nd sentence: \")\n",
    "for i in vowels:\n",
    "    if i in s2 :       \n",
    "        print(i, s2.lower().count(i))  "
   ]
  }
 ],
 "metadata": {
  "kernelspec": {
   "display_name": "Python 3",
   "language": "python",
   "name": "python3"
  },
  "language_info": {
   "codemirror_mode": {
    "name": "ipython",
    "version": 3
   },
   "file_extension": ".py",
   "mimetype": "text/x-python",
   "name": "python",
   "nbconvert_exporter": "python",
   "pygments_lexer": "ipython3",
   "version": "3.7.1"
  }
 },
 "nbformat": 4,
 "nbformat_minor": 2
}
