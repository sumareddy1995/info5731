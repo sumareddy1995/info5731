{
  "nbformat": 4,
  "nbformat_minor": 0,
  "metadata": {
    "colab": {
      "name": "Erasani_selfstudy8.ipynb",
      "version": "0.3.2",
      "provenance": [],
      "collapsed_sections": []
    },
    "kernelspec": {
      "name": "python3",
      "display_name": "Python 3"
    }
  },
  "cells": [
    {
      "metadata": {
        "id": "2E4uR-OET1dt",
        "colab_type": "text"
      },
      "cell_type": "markdown",
      "source": [
        "# Chapter 5\n",
        "Statistics "
      ]
    },
    {
      "metadata": {
        "id": "O94zuqVyUU56",
        "colab_type": "code",
        "colab": {}
      },
      "cell_type": "code",
      "source": [
        "from __future__ import division\n",
        "from collections import Counter\n",
        "import math\n",
        "import matplotlib.pyplot as plt"
      ],
      "execution_count": 0,
      "outputs": []
    },
    {
      "metadata": {
        "id": "Q56QcNISTpg8",
        "colab_type": "code",
        "colab": {}
      },
      "cell_type": "code",
      "source": [
        "num_friends = [100,49,41,40,25,21,21,19,19,18,18,16,15,15,15,15,14,14,13,13,13,13,12,12,11,10,10,10,10,10,10,10,10,10,10,10,10,10,10,10,9,9,9,9,9,9,9,9,9,9,9,9,9,9,9,9,9,9,8,8,8,8,8,8,8,8,8,8,8,8,8,7,7,7,7,7,7,7,7,7,7,7,7,7,7,7,6,6,6,6,6,6,6,6,6,6,6,6,6,6,6,6,6,6,6,6,6,6,5,5,5,5,5,5,5,5,5,5,5,5,5,5,5,5,5,4,4,4,4,4,4,4,4,4,4,4,4,4,4,4,4,4,4,4,4,3,3,3,3,3,3,3,3,3,3,3,3,3,3,3,3,3,3,3,3,2,2,2,2,2,2,2,2,2,2,2,2,2,2,2,2,2,1,1,1,1,1,1,1,1,1,1,1,1,1,1,1,1,1,1,1,1,1,1]\n"
      ],
      "execution_count": 0,
      "outputs": []
    },
    {
      "metadata": {
        "id": "SiPwQQ-ST8R9",
        "colab_type": "code",
        "outputId": "9c82a9ca-428b-4cd7-9e2c-e9143f48d8ba",
        "colab": {
          "base_uri": "https://localhost:8080/",
          "height": 376
        }
      },
      "cell_type": "code",
      "source": [
        "friend_counts = Counter(num_friends)\n",
        "xs = range(100)\n",
        "ys = [friend_counts[x] for x in xs]\n",
        "plt.axis([0, 101, 0, 25])\n",
        "plt.bar(xs,ys)\n",
        "plt.title(\"Histogram of Friend Counts\")\n",
        "plt.xlabel(\"# of friends\")\n",
        "plt.ylabel(\"# of people\")\n",
        "plt.show()\n",
        " "
      ],
      "execution_count": 4,
      "outputs": [
        {
          "output_type": "display_data",
          "data": {
            "image/png": "[encoded data removed]",
            "text/plain": [
              "<Figure size 576x396 with 1 Axes>"
            ]
          },
          "metadata": {
            "tags": []
          }
        }
      ]
    },
    {
      "metadata": {
        "id": "BsEzMIpHUFKo",
        "colab_type": "code",
        "outputId": "269f8c44-0346-445e-b67b-bbeb820e46b2",
        "colab": {
          "base_uri": "https://localhost:8080/",
          "height": 34
        }
      },
      "cell_type": "code",
      "source": [
        "num_points = len(num_friends)\n",
        "num_points"
      ],
      "execution_count": 5,
      "outputs": [
        {
          "output_type": "execute_result",
          "data": {
            "text/plain": [
              "204"
            ]
          },
          "metadata": {
            "tags": []
          },
          "execution_count": 5
        }
      ]
    },
    {
      "metadata": {
        "id": "i4evNWBQVrqG",
        "colab_type": "code",
        "outputId": "b26045f0-a90c-48fa-f3cc-cf449344cf4d",
        "colab": {
          "base_uri": "https://localhost:8080/",
          "height": 51
        }
      },
      "cell_type": "code",
      "source": [
        "largest_value = max(num_friends) \n",
        "smallest_value = min(num_friends)\n",
        "print(largest_value)\n",
        "print(smallest_value)"
      ],
      "execution_count": 6,
      "outputs": [
        {
          "output_type": "stream",
          "text": [
            "100\n",
            "1\n"
          ],
          "name": "stdout"
        }
      ]
    },
    {
      "metadata": {
        "id": "BtoiDYMsZVGK",
        "colab_type": "code",
        "colab": {}
      },
      "cell_type": "code",
      "source": [
        "sorted_values = sorted(num_friends)"
      ],
      "execution_count": 0,
      "outputs": []
    },
    {
      "metadata": {
        "id": "SC5E_5SbZiDD",
        "colab_type": "code",
        "outputId": "7a7aa73f-310e-4e4d-f0c7-ab109e8f7a32",
        "colab": {
          "base_uri": "https://localhost:8080/",
          "height": 51
        }
      },
      "cell_type": "code",
      "source": [
        "smallest_value = sorted_values[0] \n",
        "print(smallest_value)\n",
        "second_smallest_value = sorted_values[1]\n",
        "print(second_smallest_value)\n",
        "second_largest_value = sorted_values[-2]"
      ],
      "execution_count": 8,
      "outputs": [
        {
          "output_type": "stream",
          "text": [
            "1\n",
            "1\n"
          ],
          "name": "stdout"
        }
      ]
    },
    {
      "metadata": {
        "id": "3QOeaqhbhXFP",
        "colab_type": "code",
        "outputId": "051c3b37-c928-4e97-9219-6113e41fe31f",
        "colab": {
          "base_uri": "https://localhost:8080/",
          "height": 34
        }
      },
      "cell_type": "code",
      "source": [
        "def mean(x):\n",
        "  return sum(x) / len(x)\n",
        "mean(num_friends) "
      ],
      "execution_count": 9,
      "outputs": [
        {
          "output_type": "execute_result",
          "data": {
            "text/plain": [
              "7.333333333333333"
            ]
          },
          "metadata": {
            "tags": []
          },
          "execution_count": 9
        }
      ]
    },
    {
      "metadata": {
        "id": "4JW9aPG1hlxs",
        "colab_type": "code",
        "outputId": "ee118aa4-b107-41aa-b257-2996daaa9ddf",
        "colab": {
          "base_uri": "https://localhost:8080/",
          "height": 34
        }
      },
      "cell_type": "code",
      "source": [
        "def median(v):\n",
        "  \"\"\"finds the 'middle-most' value of v\"\"\"\n",
        "  n = len(v)\n",
        "  sorted_v = sorted(v)\n",
        "  midpoint = n // 2\n",
        "  if n % 2 == 1:\n",
        "    # if odd, return the middle value\n",
        "    return sorted_v[midpoint]\n",
        "  else:\n",
        "    # if even, return the average of the middle values\n",
        "    lo = midpoint - 1\n",
        "    hi = midpoint\n",
        "    return (sorted_v[lo] + sorted_v[hi]) / 2\n",
        "median(num_friends) # 6.0"
      ],
      "execution_count": 10,
      "outputs": [
        {
          "output_type": "execute_result",
          "data": {
            "text/plain": [
              "6.0"
            ]
          },
          "metadata": {
            "tags": []
          },
          "execution_count": 10
        }
      ]
    },
    {
      "metadata": {
        "id": "DuyRFSKZhwAK",
        "colab_type": "code",
        "colab": {}
      },
      "cell_type": "code",
      "source": [
        "def quantile(x, p):\n",
        "    \"\"\"returns the pth-percentile value in x\"\"\"\n",
        "    p_index = int(p * len(x))\n",
        "    return sorted(x)[p_index]"
      ],
      "execution_count": 0,
      "outputs": []
    },
    {
      "metadata": {
        "id": "DTGi3Td0h1gM",
        "colab_type": "code",
        "outputId": "f7ad76b0-80f5-416a-fd81-aa7aa7cb9431",
        "colab": {
          "base_uri": "https://localhost:8080/",
          "height": 85
        }
      },
      "cell_type": "code",
      "source": [
        "print(quantile(num_friends, 0.10)) \n",
        "print(quantile(num_friends, 0.25)) # 3\n",
        "print(quantile(num_friends, 0.75)) # 9\n",
        "print(quantile(num_friends, 0.90))"
      ],
      "execution_count": 12,
      "outputs": [
        {
          "output_type": "stream",
          "text": [
            "1\n",
            "3\n",
            "9\n",
            "13\n"
          ],
          "name": "stdout"
        }
      ]
    },
    {
      "metadata": {
        "id": "cZ9baMquh5j7",
        "colab_type": "code",
        "outputId": "31a9d1cd-b318-4bcb-f71e-e3e0bc0e1733",
        "colab": {
          "base_uri": "https://localhost:8080/",
          "height": 34
        }
      },
      "cell_type": "code",
      "source": [
        "def interquartile_range(x):\n",
        "    return quantile(x, 0.75) - quantile(x, 0.25)\n",
        "interquartile_range(num_friends) # 6"
      ],
      "execution_count": 13,
      "outputs": [
        {
          "output_type": "execute_result",
          "data": {
            "text/plain": [
              "6"
            ]
          },
          "metadata": {
            "tags": []
          },
          "execution_count": 13
        }
      ]
    },
    {
      "metadata": {
        "id": "BfjxHLoCiJP1",
        "colab_type": "code",
        "colab": {}
      },
      "cell_type": "code",
      "source": [
        "def mode(x):\n",
        "    \"\"\"returns a list, might be more than one mode\"\"\"\n",
        "    counts = Counter(x)\n",
        "    max_count = max(counts.values())\n",
        "    return [x_i for x_i, count in counts.items()\n",
        "            if count == max_count]\n"
      ],
      "execution_count": 0,
      "outputs": []
    },
    {
      "metadata": {
        "id": "fCmmRK13iLPo",
        "colab_type": "code",
        "outputId": "d14b8a11-3eed-4e29-8bf2-1c8bb42f8487",
        "colab": {
          "base_uri": "https://localhost:8080/",
          "height": 34
        }
      },
      "cell_type": "code",
      "source": [
        "mode(num_friends)"
      ],
      "execution_count": 15,
      "outputs": [
        {
          "output_type": "execute_result",
          "data": {
            "text/plain": [
              "[6, 1]"
            ]
          },
          "metadata": {
            "tags": []
          },
          "execution_count": 15
        }
      ]
    },
    {
      "metadata": {
        "id": "xpIx0HnSiNCW",
        "colab_type": "code",
        "outputId": "f7d3f09b-d05a-4ce1-d49d-64f119ca893a",
        "colab": {
          "base_uri": "https://localhost:8080/",
          "height": 34
        }
      },
      "cell_type": "code",
      "source": [
        "def data_range(x):\n",
        "  return max(x) - min(x)\n",
        "data_range(num_friends) # 99"
      ],
      "execution_count": 16,
      "outputs": [
        {
          "output_type": "execute_result",
          "data": {
            "text/plain": [
              "99"
            ]
          },
          "metadata": {
            "tags": []
          },
          "execution_count": 16
        }
      ]
    },
    {
      "metadata": {
        "id": "pZB2VRSJiVU5",
        "colab_type": "code",
        "outputId": "4c705016-0a20-4836-911c-ee581e27d533",
        "colab": {
          "base_uri": "https://localhost:8080/",
          "height": 34
        }
      },
      "cell_type": "code",
      "source": [
        "def de_mean(xs):\n",
        "    mu = mean(xs)\n",
        "    return ((x-mu) for x in xs)\n",
        "\n",
        "def variance(xs):\n",
        "    mu = mean(xs)\n",
        "    n = len(xs)\n",
        "    return sum((x-mu)**2 for x in xs) / (n-1)\n",
        "variance(num_friends) # 81.54\n"
      ],
      "execution_count": 17,
      "outputs": [
        {
          "output_type": "execute_result",
          "data": {
            "text/plain": [
              "81.54351395730716"
            ]
          },
          "metadata": {
            "tags": []
          },
          "execution_count": 17
        }
      ]
    },
    {
      "metadata": {
        "id": "xr9ywJ6MifYs",
        "colab_type": "code",
        "outputId": "940e640e-5649-4db6-9c40-84fe1ef00312",
        "colab": {
          "base_uri": "https://localhost:8080/",
          "height": 34
        }
      },
      "cell_type": "code",
      "source": [
        "def standard_deviation(x):\n",
        "  return math.sqrt(variance(x))\n",
        "standard_deviation(num_friends) # 9.03"
      ],
      "execution_count": 18,
      "outputs": [
        {
          "output_type": "execute_result",
          "data": {
            "text/plain": [
              "9.03014473623248"
            ]
          },
          "metadata": {
            "tags": []
          },
          "execution_count": 18
        }
      ]
    },
    {
      "metadata": {
        "id": "3EFE9uGaikgl",
        "colab_type": "code",
        "colab": {}
      },
      "cell_type": "code",
      "source": [
        "from keras.layers import *  \n",
        "friends = [ 70, 65, 72, 63, 71, 64, 60, 64, 67]\n",
        "daily_minutes = [175, 170, 205, 120, 220, 130, 105, 145, 190]\n",
        "def covariance(x, y):\n",
        "    n = len(x)\n",
        "    return dot(de_mean(x),de_mean(y)) / (n-1)\n"
      ],
      "execution_count": 0,
      "outputs": []
    },
    {
      "metadata": {
        "id": "hifxuKwQi8Xd",
        "colab_type": "code",
        "colab": {}
      },
      "cell_type": "code",
      "source": [
        "def correlation(x, y):\n",
        "    stdev_x = standard_deviation(x)\n",
        "    stdev_y = standard_deviation(y)\n",
        "    if stdev_x > 0 and stdev_y > 0:\n",
        "        return covariance(x, y) / stdev_x / stdev_y\n",
        "    else:\n",
        "        return 0 # if no variation, correlation is zero\n"
      ],
      "execution_count": 0,
      "outputs": []
    },
    {
      "metadata": {
        "id": "Jq6NNLYci_Km",
        "colab_type": "code",
        "colab": {}
      },
      "cell_type": "code",
      "source": [
        "outlier = num_friends.index(100) # index of outlier\n",
        "num_friends_good = [x \n",
        "                    for i, x in enumerate(num_friends)\n",
        "                    if i != outlier]\n",
        "daily_minutes_good = [x \n",
        "                      for i, x in enumerate(daily_minutes) \n",
        "                      if i != outlier]\n"
      ],
      "execution_count": 0,
      "outputs": []
    },
    {
      "metadata": {
        "id": "k1BHW1UVp15f",
        "colab_type": "text"
      },
      "cell_type": "markdown",
      "source": [
        "# Chapter 6 \n",
        "Probability "
      ]
    },
    {
      "metadata": {
        "id": "syc2IT6nqMHa",
        "colab_type": "code",
        "colab": {}
      },
      "cell_type": "code",
      "source": [
        "import random"
      ],
      "execution_count": 0,
      "outputs": []
    },
    {
      "metadata": {
        "id": "XJ3evA1jqQ6L",
        "colab_type": "code",
        "colab": {}
      },
      "cell_type": "code",
      "source": [
        "def random_kid():\n",
        "    return random.choice([\"boy\", \"girl\"])"
      ],
      "execution_count": 0,
      "outputs": []
    },
    {
      "metadata": {
        "id": "uXlgVgUyqg19",
        "colab_type": "code",
        "colab": {}
      },
      "cell_type": "code",
      "source": [
        "both_girls = 0\n",
        "older_girl = 0\n",
        "either_girl = 0\n",
        "n = 10000\n",
        "\n",
        "random.seed(0)\n",
        "for _ in range(n):\n",
        "    younger = random_kid()\n",
        "    older = random_kid()\n",
        "\n",
        "    if older == \"girl\":\n",
        "        older_girl += 1\n",
        "    if older == \"girl\" and younger == \"girl\":\n",
        "        both_girls += 1\n",
        "    if older == \"girl\" or younger == \"girl\":\n",
        "        either_girl += 1"
      ],
      "execution_count": 0,
      "outputs": []
    },
    {
      "metadata": {
        "id": "l0sqck0MqwnC",
        "colab_type": "code",
        "outputId": "d91d6a39-ac88-45e1-c4a9-f6a28b1ddd5d",
        "colab": {
          "base_uri": "https://localhost:8080/",
          "height": 68
        }
      },
      "cell_type": "code",
      "source": [
        "print(\"P(both):\", both_girls/n)\n",
        "print(\"P(older):\", older_girl/n)\n",
        "print(\"P(either):\", either_girl/n)"
      ],
      "execution_count": 0,
      "outputs": [
        {
          "output_type": "stream",
          "text": [
            "P(both): 0.2472\n",
            "P(older): 0.4937\n",
            "P(either): 0.7464\n"
          ],
          "name": "stdout"
        }
      ]
    },
    {
      "metadata": {
        "id": "C-gqkc1vq0VC",
        "colab_type": "code",
        "colab": {}
      },
      "cell_type": "code",
      "source": [
        "def uniform_pdf(x):\n",
        "  return 1 if x >= 0 and x < 1 else 0"
      ],
      "execution_count": 0,
      "outputs": []
    },
    {
      "metadata": {
        "id": "2_VO7oL3rgVL",
        "colab_type": "code",
        "colab": {}
      },
      "cell_type": "code",
      "source": [
        "def uniform_cdf(x):\n",
        "  \"returns the probability that a uniform random variable is <= x\"\n",
        "  if x < 0: return 0 # uniform random is never less than 0\n",
        "  elif x < 1: return x # e.g. P(X <= 0.4) = 0.4\n",
        "  else: return 1 # uniform random is always less than 1"
      ],
      "execution_count": 0,
      "outputs": []
    },
    {
      "metadata": {
        "id": "-r40hRsWrz8-",
        "colab_type": "code",
        "colab": {}
      },
      "cell_type": "code",
      "source": [
        "import math\n",
        "import random\n",
        "import matplotlib.pyplot as plt"
      ],
      "execution_count": 0,
      "outputs": []
    },
    {
      "metadata": {
        "id": "yThf9OJHr9cr",
        "colab_type": "code",
        "colab": {}
      },
      "cell_type": "code",
      "source": [
        "def normal_pdf(x, mu=0, sigma=1):\n",
        "    sqrt_two_pi = math.sqrt(2 * math.pi)\n",
        "    return (math.exp(-(x-mu) ** 2 / 2 / sigma ** 2) / (sqrt_two_pi * sigma))"
      ],
      "execution_count": 0,
      "outputs": []
    },
    {
      "metadata": {
        "id": "ojiq6v8PsMDb",
        "colab_type": "code",
        "outputId": "50c7c3e6-8cb2-4d2b-d7c9-0f011a95c0af",
        "colab": {
          "base_uri": "https://localhost:8080/",
          "height": 362
        }
      },
      "cell_type": "code",
      "source": [
        "xs = [x / 10.0 for x in range(-50, 50)]\n",
        "plt.plot(xs,[normal_pdf(x,sigma=1) for x in xs],'-',label='mu=0,sigma=1')\n",
        "plt.plot(xs,[normal_pdf(x,sigma=2) for x in xs],'--',label='mu=0,sigma=2')\n",
        "plt.plot(xs,[normal_pdf(x,sigma=0.5) for x in xs],':',label='mu=0,sigma=0.5')\n",
        "plt.plot(xs,[normal_pdf(x,mu=-1) for x in xs],'-.',label='mu=-1,sigma=1')\n",
        "plt.legend()\n",
        "plt.title(\"Various Normal pdfs\")\n",
        "plt.show()"
      ],
      "execution_count": 0,
      "outputs": [
        {
          "output_type": "display_data",
          "data": {
            "image/png": "[encoded data removed]",
            "text/plain": [
              "<Figure size 576x396 with 1 Axes>"
            ]
          },
          "metadata": {
            "tags": []
          }
        }
      ]
    },
    {
      "metadata": {
        "id": "7qZxmgHisEpu",
        "colab_type": "code",
        "colab": {}
      },
      "cell_type": "code",
      "source": [
        "def normal_cdf(x, mu=0,sigma=1):\n",
        "    \"\"\"cummulative density function\"\"\"\n",
        "    return (1 + math.erf((x - mu) / math.sqrt(2) / sigma)) / 2"
      ],
      "execution_count": 0,
      "outputs": []
    },
    {
      "metadata": {
        "id": "td5yvvVYsG4F",
        "colab_type": "code",
        "outputId": "c968460a-7ec6-44a5-ff0f-1153633731be",
        "colab": {
          "base_uri": "https://localhost:8080/",
          "height": 362
        }
      },
      "cell_type": "code",
      "source": [
        "xs = [x / 10.0 for x in range(-50, 50)]\n",
        "plt.plot(xs,[normal_cdf(x,sigma=1) for x in xs],'-',label='mu=0,sigma=1')\n",
        "plt.plot(xs,[normal_cdf(x,sigma=2) for x in xs],'--',label='mu=0,sigma=2')\n",
        "plt.plot(xs,[normal_cdf(x,sigma=0.5) for x in xs],':',label='mu=0,sigma=0.5')\n",
        "plt.plot(xs,[normal_cdf(x,mu=-1) for x in xs],'-.',label='mu=-1,sigma=1')\n",
        "plt.legend(loc=4) # bottom right\n",
        "plt.title(\"Various Normal cdfs\")\n",
        "plt.show()"
      ],
      "execution_count": 0,
      "outputs": [
        {
          "output_type": "display_data",
          "data": {
            "image/png": "[encoded data removed]",
            "text/plain": [
              "<Figure size 576x396 with 1 Axes>"
            ]
          },
          "metadata": {
            "tags": []
          }
        }
      ]
    },
    {
      "metadata": {
        "id": "h9CUlt89sR1d",
        "colab_type": "code",
        "colab": {}
      },
      "cell_type": "code",
      "source": [
        "def inverse_normal_cdf(p, mu=0, sigma=1, tolerance=0.00001):\n",
        "    \"\"\"find approximate inverse using binary search\"\"\"\n",
        "\n",
        "    low_z, low_p = -10.0, 0\n",
        "    hi_z, hi_p = 10.0, 1\n",
        "    while hi_z - low_z > tolerance:\n",
        "        mid_z = (low_z + hi_z) / 2\n",
        "        mid_p = normal_cdf(mid_z)\n",
        "        if mid_p < p:\n",
        "            # midpoint is still too low, search above it\n",
        "            low_z, low_p = mid_z, mid_p\n",
        "        elif mid_p > p:\n",
        "            # midpoint is still too high, search below it\n",
        "            hi_z, hi_p = mid_z, mid_p\n",
        "            hi_z, hi_p = mid_z, mid_p\n",
        "        else:\n",
        "            break\n",
        "\n",
        "    return mu + sigma * mid_z"
      ],
      "execution_count": 0,
      "outputs": []
    },
    {
      "metadata": {
        "id": "b2Z5OO8ysXsu",
        "colab_type": "code",
        "outputId": "f1fcd875-d4f9-4401-d66e-9c9889f5bba2",
        "colab": {
          "base_uri": "https://localhost:8080/",
          "height": 34
        }
      },
      "cell_type": "code",
      "source": [
        "inverse_normal_cdf(0.25)"
      ],
      "execution_count": 0,
      "outputs": [
        {
          "output_type": "execute_result",
          "data": {
            "text/plain": [
              "-0.6744861602783203"
            ]
          },
          "metadata": {
            "tags": []
          },
          "execution_count": 80
        }
      ]
    },
    {
      "metadata": {
        "id": "D6RLKvFluVxx",
        "colab_type": "code",
        "outputId": "b08b386e-6785-4cc4-8915-8a2fdb99656f",
        "colab": {
          "base_uri": "https://localhost:8080/",
          "height": 34
        }
      },
      "cell_type": "code",
      "source": [
        "inverse_normal_cdf(0.5)"
      ],
      "execution_count": 0,
      "outputs": [
        {
          "output_type": "execute_result",
          "data": {
            "text/plain": [
              "0.0"
            ]
          },
          "metadata": {
            "tags": []
          },
          "execution_count": 81
        }
      ]
    },
    {
      "metadata": {
        "id": "vL9GabdvuZbs",
        "colab_type": "code",
        "colab": {}
      },
      "cell_type": "code",
      "source": [
        "import math\n",
        "import random\n",
        "from collections import Counter\n",
        "import matplotlib.pyplot as plt\n"
      ],
      "execution_count": 0,
      "outputs": []
    },
    {
      "metadata": {
        "id": "QOATEs3ZvIiq",
        "colab_type": "code",
        "colab": {}
      },
      "cell_type": "code",
      "source": [
        "def bernoulli_trial(p):\n",
        "    return 1 if random.random() < p else 0"
      ],
      "execution_count": 0,
      "outputs": []
    },
    {
      "metadata": {
        "id": "h94ZojgOvKWJ",
        "colab_type": "code",
        "colab": {}
      },
      "cell_type": "code",
      "source": [
        "def binomial(n, p):\n",
        "    return sum(bernoulli_trial(p) for _ in range(n))"
      ],
      "execution_count": 0,
      "outputs": []
    },
    {
      "metadata": {
        "id": "9rn7HXWqvMPj",
        "colab_type": "code",
        "colab": {}
      },
      "cell_type": "code",
      "source": [
        "def make_hist(p, n, num_points):\n",
        "    data = [binomial(n, p) for _ in range(num_points)]\n",
        "\n",
        "    # use a bar chart to show the actual binomial samples\n",
        "    histogram = Counter(data)\n",
        "    plt.bar([x - 0.4 for x in histogram.keys()],\n",
        "            [v / num_points for v in histogram.values()],\n",
        "            0.8,\n",
        "            color='0.75')\n",
        "    mu=p*n\n",
        "    sigma = math.sqrt(n * p * (1 - p))\n",
        "\n",
        "    # use a line chart to show the normal approximation\n",
        "    # We're using CDF on narrow intervals, maybe because the binomial distribution\n",
        "    # is discrete?\n",
        "    xs = range(min(data), max(data) + 1)\n",
        "    ys = [normal_cdf(i + 0.5, mu, sigma) - normal_cdf(i - 0.5, mu, sigma)\n",
        "          for i in xs]\n",
        "    plt.plot(xs,ys,'.')\n",
        "\n",
        "    # We can also plot the normal pdf\n",
        "    ys = [normal_pdf(i, mu, sigma) for i in xs]\n",
        "    plt.plot(xs,ys)\n",
        "\n",
        "    plt.title(\"Binomial Distribution vs. Normal Approximation\")\n",
        "    plt.show()"
      ],
      "execution_count": 0,
      "outputs": []
    },
    {
      "metadata": {
        "id": "t2Q1IxHwvXVv",
        "colab_type": "code",
        "outputId": "b3ffc301-bca9-487e-98b0-17d9a430eee7",
        "colab": {
          "base_uri": "https://localhost:8080/",
          "height": 362
        }
      },
      "cell_type": "code",
      "source": [
        "make_hist(0.75, 100, 10000)"
      ],
      "execution_count": 0,
      "outputs": [
        {
          "output_type": "display_data",
          "data": {
            "image/png": "[encoded data removed]",
            "text/plain": [
              "<Figure size 576x396 with 1 Axes>"
            ]
          },
          "metadata": {
            "tags": []
          }
        }
      ]
    },
    {
      "metadata": {
        "id": "FnyRDTD2vgDq",
        "colab_type": "code",
        "colab": {}
      },
      "cell_type": "code",
      "source": [
        ""
      ],
      "execution_count": 0,
      "outputs": []
    },
    {
      "metadata": {
        "id": "d7-OwqKjvi4T",
        "colab_type": "text"
      },
      "cell_type": "markdown",
      "source": [
        "# Chapter 7 \n",
        "Hypothesis And Inference "
      ]
    },
    {
      "metadata": {
        "id": "sOaa8CYBvwxH",
        "colab_type": "code",
        "colab": {}
      },
      "cell_type": "code",
      "source": [
        "import math, random\n",
        "import matplotlib.pyplot as plt"
      ],
      "execution_count": 0,
      "outputs": []
    },
    {
      "metadata": {
        "id": "BJ4D3hK-v7Fv",
        "colab_type": "code",
        "colab": {}
      },
      "cell_type": "code",
      "source": [
        "def normal_approximation_to_binomial(n, p):\n",
        "    \"\"\"finds mu and sigma corresponding to a Binomial(n, p)\"\"\"\n",
        "    mu = p * n\n",
        "    sigma = math.sqrt(p * (1 - p) * n)\n",
        "    return mu, sigma"
      ],
      "execution_count": 0,
      "outputs": []
    },
    {
      "metadata": {
        "id": "oV_misHJwmsd",
        "colab_type": "code",
        "colab": {}
      },
      "cell_type": "code",
      "source": [
        "# the normal cdf _is_ the probability the variable is below a threshold\n",
        "normal_probability_below = normal_cdf\n",
        "# it's above the threshold if it's not below the threshold\n",
        "def normal_probability_above(lo, mu=0, sigma=1):\n",
        "    return 1 - normal_cdf(lo, mu, sigma)\n",
        "# it's between if it's less than hi, but not less than lo\n",
        "def normal_probability_between(lo, hi, mu=0, sigma=1):\n",
        "    return normal_cdf(hi, mu, sigma) - normal_cdf(lo, mu, sigma)\n",
        "# it's outside if it's not between\n",
        "def normal_probability_outside(lo, hi, mu=0, sigma=1):\n",
        "    return 1 - normal_probability_between(lo, hi, mu, sigma)\n",
        "def normal_upper_bound(probability, mu=0, sigma=1):\n",
        "    \"\"\"returns the z for which P(Z <= z) = probability\"\"\"\n",
        "    return inverse_normal_cdf(probability, mu, sigma)\n",
        "def normal_lower_bound(probability, mu=0, sigma=1):\n",
        "    \"\"\"returns the z for which P(Z >= z) = probability\"\"\"\n",
        "    return inverse_normal_cdf(1 - probability, mu, sigma)\n",
        "def normal_two_sided_bounds(probability, mu=0, sigma=1):\n",
        "    \"\"\"returns the symmetric (about the mean) bounds\n",
        "    that contain the specified probability\"\"\"\n",
        "    tail_probability = (1 - probability) / 2\n",
        "\n",
        "    # upper bound should have tail_probability above it\n",
        "    upper_bound = normal_lower_bound(tail_probability, mu, sigma)\n",
        "\n",
        "    # lower bound should have tail_probability below it\n",
        "    lower_bound = normal_upper_bound(tail_probability, mu, sigma)\n",
        "\n",
        "    return lower_bound, upper_bound"
      ],
      "execution_count": 0,
      "outputs": []
    },
    {
      "metadata": {
        "id": "kUPaBqBDxQWh",
        "colab_type": "code",
        "colab": {}
      },
      "cell_type": "code",
      "source": [
        "mu_0, sigma_0 = normal_approximation_to_binomial(1000, 0.5)"
      ],
      "execution_count": 0,
      "outputs": []
    },
    {
      "metadata": {
        "id": "ooDnEkWCx0kG",
        "colab_type": "code",
        "outputId": "f30b7aa0-0e17-45b2-c22e-a4171cb9c161",
        "colab": {
          "base_uri": "https://localhost:8080/",
          "height": 34
        }
      },
      "cell_type": "code",
      "source": [
        "normal_two_sided_bounds(0.95, mu_0, sigma_0) # (469, 531)"
      ],
      "execution_count": 0,
      "outputs": [
        {
          "output_type": "execute_result",
          "data": {
            "text/plain": [
              "(469.01026640487555, 530.9897335951244)"
            ]
          },
          "metadata": {
            "tags": []
          },
          "execution_count": 94
        }
      ]
    },
    {
      "metadata": {
        "id": "FXfEkT30x2_l",
        "colab_type": "code",
        "outputId": "ce0a1d8a-b9ca-47bb-ad14-430f36abe9ef",
        "colab": {
          "base_uri": "https://localhost:8080/",
          "height": 34
        }
      },
      "cell_type": "code",
      "source": [
        "lo, hi = normal_two_sided_bounds(0.95, mu_0, sigma_0)\n",
        "# actual mu and sigma based on p = 0.55\n",
        "mu_1, sigma_1 = normal_approximation_to_binomial(1000, 0.55)\n",
        "# a type 2 error means we fail to reject the null hypothesis\n",
        "# which will happen when X is still in our original interval\n",
        "type_2_probability = normal_probability_between(lo, hi, mu_1, sigma_1)\n",
        "power = 1 - type_2_probability # 0.887\n",
        "power\n"
      ],
      "execution_count": 0,
      "outputs": [
        {
          "output_type": "execute_result",
          "data": {
            "text/plain": [
              "0.8865480012953671"
            ]
          },
          "metadata": {
            "tags": []
          },
          "execution_count": 96
        }
      ]
    },
    {
      "metadata": {
        "id": "9Wc0mWLbyaJe",
        "colab_type": "code",
        "outputId": "65a00d82-2e62-46de-93aa-f347c8d726a4",
        "colab": {
          "base_uri": "https://localhost:8080/",
          "height": 34
        }
      },
      "cell_type": "code",
      "source": [
        "hi = normal_upper_bound(0.95, mu_0, sigma_0)\n",
        "# is 526 (< 531, since we need more probability in the upper tail)\n",
        "type_2_probability = normal_probability_below(hi, mu_1, sigma_1)\n",
        "power = 1 - type_2_probability # 0.936\n",
        "power"
      ],
      "execution_count": 0,
      "outputs": [
        {
          "output_type": "execute_result",
          "data": {
            "text/plain": [
              "0.9363794803307173"
            ]
          },
          "metadata": {
            "tags": []
          },
          "execution_count": 97
        }
      ]
    },
    {
      "metadata": {
        "id": "9BmftwKIynSN",
        "colab_type": "code",
        "colab": {}
      },
      "cell_type": "code",
      "source": [
        "def two_sided_p_value(x, mu=0, sigma=1):\n",
        "  if x >= mu:\n",
        "  # if x is greater than the mean, the tail is what's greater than x\n",
        "    return 2 * normal_probability_above(x, mu, sigma)\n",
        "  else:\n",
        "  # if x is less than the mean, the tail is what's less than x\n",
        "    return 2 * normal_probability_below(x, mu, sigma)\n"
      ],
      "execution_count": 0,
      "outputs": []
    },
    {
      "metadata": {
        "id": "TUS0f20ozVQe",
        "colab_type": "code",
        "outputId": "4b5008f9-2a61-4638-add6-db4a51c1aea9",
        "colab": {
          "base_uri": "https://localhost:8080/",
          "height": 34
        }
      },
      "cell_type": "code",
      "source": [
        "two_sided_p_value(529.5, mu_0, sigma_0) # 0.062\n"
      ],
      "execution_count": 0,
      "outputs": [
        {
          "output_type": "execute_result",
          "data": {
            "text/plain": [
              "0.06207721579598857"
            ]
          },
          "metadata": {
            "tags": []
          },
          "execution_count": 99
        }
      ]
    },
    {
      "metadata": {
        "id": "9CDTgJ2kzX7_",
        "colab_type": "code",
        "outputId": "d80744b2-e840-45b3-cf39-7a2c7185cac8",
        "colab": {
          "base_uri": "https://localhost:8080/",
          "height": 34
        }
      },
      "cell_type": "code",
      "source": [
        "extreme_value_count = 0\n",
        "for _ in range(100000):\n",
        "  num_heads = sum(1 if random.random() < 0.5 else 0 # count # of heads\n",
        "                    for _ in range(1000)) # in 1000 flips\n",
        "  if num_heads >= 530 or num_heads <= 470: # and count how often\n",
        "    extreme_value_count += 1 # the # is 'extreme'\n",
        "print (extreme_value_count / 100000 )# 0.062\n"
      ],
      "execution_count": 0,
      "outputs": [
        {
          "output_type": "stream",
          "text": [
            "0.06249\n"
          ],
          "name": "stdout"
        }
      ]
    },
    {
      "metadata": {
        "id": "HAh3P1ayzpcz",
        "colab_type": "code",
        "outputId": "6d731572-b602-4305-ffa2-953c873a1d1f",
        "colab": {
          "base_uri": "https://localhost:8080/",
          "height": 34
        }
      },
      "cell_type": "code",
      "source": [
        "two_sided_p_value(531.5, mu_0, sigma_0) # 0.0463"
      ],
      "execution_count": 0,
      "outputs": [
        {
          "output_type": "execute_result",
          "data": {
            "text/plain": [
              "0.046345287837786575"
            ]
          },
          "metadata": {
            "tags": []
          },
          "execution_count": 102
        }
      ]
    },
    {
      "metadata": {
        "id": "DeUbOJx3z8CB",
        "colab_type": "code",
        "colab": {}
      },
      "cell_type": "code",
      "source": [
        "upper_p_value = normal_probability_above\n",
        "lower_p_value = normal_probability_below\n"
      ],
      "execution_count": 0,
      "outputs": []
    },
    {
      "metadata": {
        "id": "PZ94-Lxjz_hR",
        "colab_type": "code",
        "outputId": "e2764843-45a5-4901-bae0-a3de6355266a",
        "colab": {
          "base_uri": "https://localhost:8080/",
          "height": 34
        }
      },
      "cell_type": "code",
      "source": [
        "upper_p_value(524.5, mu_0, sigma_0) # 0.061\n"
      ],
      "execution_count": 0,
      "outputs": [
        {
          "output_type": "execute_result",
          "data": {
            "text/plain": [
              "0.06062885772582083"
            ]
          },
          "metadata": {
            "tags": []
          },
          "execution_count": 104
        }
      ]
    },
    {
      "metadata": {
        "id": "zCyAH22K0B-a",
        "colab_type": "code",
        "outputId": "644dddce-130f-45fc-9896-e045ff5d9e3b",
        "colab": {
          "base_uri": "https://localhost:8080/",
          "height": 34
        }
      },
      "cell_type": "code",
      "source": [
        "upper_p_value(526.5, mu_0, sigma_0) # 0.047"
      ],
      "execution_count": 0,
      "outputs": [
        {
          "output_type": "execute_result",
          "data": {
            "text/plain": [
              "0.04686839508859242"
            ]
          },
          "metadata": {
            "tags": []
          },
          "execution_count": 105
        }
      ]
    },
    {
      "metadata": {
        "id": "fCZfAsRP0D6W",
        "colab_type": "code",
        "outputId": "bc928821-3220-4b0f-abad-3f7c6cb4fbc8",
        "colab": {
          "base_uri": "https://localhost:8080/",
          "height": 34
        }
      },
      "cell_type": "code",
      "source": [
        "p_hat = 525 / 1000\n",
        "mu = p_hat\n",
        "sigma = math.sqrt(p_hat * (1 - p_hat) / 1000)\n",
        "sigma"
      ],
      "execution_count": 0,
      "outputs": [
        {
          "output_type": "execute_result",
          "data": {
            "text/plain": [
              "0.015791611697353755"
            ]
          },
          "metadata": {
            "tags": []
          },
          "execution_count": 108
        }
      ]
    },
    {
      "metadata": {
        "id": "KU_G5azI0INM",
        "colab_type": "code",
        "outputId": "6b92c2b0-3ee5-470b-ad23-d2035b901894",
        "colab": {
          "base_uri": "https://localhost:8080/",
          "height": 34
        }
      },
      "cell_type": "code",
      "source": [
        "normal_two_sided_bounds(0.95, mu, sigma) # [0.4940, 0.5560]"
      ],
      "execution_count": 0,
      "outputs": [
        {
          "output_type": "execute_result",
          "data": {
            "text/plain": [
              "(0.4940490278129096, 0.5559509721870904)"
            ]
          },
          "metadata": {
            "tags": []
          },
          "execution_count": 109
        }
      ]
    },
    {
      "metadata": {
        "id": "ZHFcFtbh0rLo",
        "colab_type": "code",
        "outputId": "8e8cc9c2-a8c1-4693-f9ed-40622db8d2ae",
        "colab": {
          "base_uri": "https://localhost:8080/",
          "height": 51
        }
      },
      "cell_type": "code",
      "source": [
        "p_hat = 540 / 1000\n",
        "mu = p_hat\n",
        "sigma = math.sqrt(p_hat * (1 - p_hat) / 1000) # 0.0158\n",
        "print(sigma)\n",
        "normal_two_sided_bounds(0.95, mu, sigma) # [0.5091, 0.5709]"
      ],
      "execution_count": 0,
      "outputs": [
        {
          "output_type": "stream",
          "text": [
            "0.015760710643876435\n"
          ],
          "name": "stdout"
        },
        {
          "output_type": "execute_result",
          "data": {
            "text/plain": [
              "(0.5091095927295919, 0.5708904072704082)"
            ]
          },
          "metadata": {
            "tags": []
          },
          "execution_count": 110
        }
      ]
    },
    {
      "metadata": {
        "id": "shpvpui90zbL",
        "colab_type": "code",
        "outputId": "78cc2fed-4c8c-4434-f40c-c9a9cf503fc8",
        "colab": {
          "base_uri": "https://localhost:8080/",
          "height": 34
        }
      },
      "cell_type": "code",
      "source": [
        "def run_experiment():\n",
        "  \"\"\"flip a fair coin 1000 times, True = heads, False = tails\"\"\"\n",
        "  return [random.random() < 0.5 for _ in range(1000)]\n",
        "def reject_fairness(experiment):\n",
        "  \"\"\"using the 5% significance levels\"\"\"\n",
        "  num_heads = len([flip for flip in experiment if flip])\n",
        "  return num_heads < 469 or num_heads > 531\n",
        "random.seed(0)\n",
        "experiments = [run_experiment() for _ in range(1000)]\n",
        "num_rejections = len([experiment \n",
        "                      for experiment in experiments \n",
        "                      if reject_fairness(experiment)])\n",
        "print (num_rejections) # 46"
      ],
      "execution_count": 0,
      "outputs": [
        {
          "output_type": "stream",
          "text": [
            "46\n"
          ],
          "name": "stdout"
        }
      ]
    },
    {
      "metadata": {
        "id": "HlFdW5cL1Fme",
        "colab_type": "code",
        "colab": {}
      },
      "cell_type": "code",
      "source": [
        "def estimated_parameters(N, n):\n",
        "  p = n / N\n",
        "  sigma = math.sqrt(p * (1 - p) / N)\n",
        "  return p, sigma"
      ],
      "execution_count": 0,
      "outputs": []
    },
    {
      "metadata": {
        "id": "0OzUqOyk1Nry",
        "colab_type": "code",
        "colab": {}
      },
      "cell_type": "code",
      "source": [
        "def a_b_test_statistic(N_A, n_A, N_B, n_B):\n",
        "  p_A, sigma_A = estimated_parameters(N_A, n_A)\n",
        "  p_B, sigma_B = estimated_parameters(N_B, n_B)\n",
        "  return (p_B - p_A) / math.sqrt(sigma_A ** 2 + sigma_B ** 2)"
      ],
      "execution_count": 0,
      "outputs": []
    },
    {
      "metadata": {
        "id": "7G4bqL3d1Tj5",
        "colab_type": "code",
        "outputId": "68dce59d-4c7b-4d92-bb30-eb78223c021f",
        "colab": {
          "base_uri": "https://localhost:8080/",
          "height": 34
        }
      },
      "cell_type": "code",
      "source": [
        "z = a_b_test_statistic(1000, 200, 1000, 180)\n",
        "z"
      ],
      "execution_count": 0,
      "outputs": [
        {
          "output_type": "execute_result",
          "data": {
            "text/plain": [
              "-1.1403464899034472"
            ]
          },
          "metadata": {
            "tags": []
          },
          "execution_count": 115
        }
      ]
    },
    {
      "metadata": {
        "id": "IOcl8DQb1WIc",
        "colab_type": "code",
        "outputId": "ef4e77f7-d087-4bcd-ab25-0c86f70fac22",
        "colab": {
          "base_uri": "https://localhost:8080/",
          "height": 34
        }
      },
      "cell_type": "code",
      "source": [
        "two_sided_p_value(z)"
      ],
      "execution_count": 0,
      "outputs": [
        {
          "output_type": "execute_result",
          "data": {
            "text/plain": [
              "0.254141976542236"
            ]
          },
          "metadata": {
            "tags": []
          },
          "execution_count": 116
        }
      ]
    },
    {
      "metadata": {
        "id": "3ISeCouZ1YYn",
        "colab_type": "code",
        "outputId": "ff16f3d1-a8af-44e5-936e-f820ef835335",
        "colab": {
          "base_uri": "https://localhost:8080/",
          "height": 51
        }
      },
      "cell_type": "code",
      "source": [
        "z = a_b_test_statistic(1000, 200, 1000, 150) # -2.94\n",
        "print(z)\n",
        "two_sided_p_value(z) "
      ],
      "execution_count": 0,
      "outputs": [
        {
          "output_type": "stream",
          "text": [
            "-2.948839123097944\n"
          ],
          "name": "stdout"
        },
        {
          "output_type": "execute_result",
          "data": {
            "text/plain": [
              "0.003189699706216853"
            ]
          },
          "metadata": {
            "tags": []
          },
          "execution_count": 118
        }
      ]
    },
    {
      "metadata": {
        "id": "quWm_YXW1b40",
        "colab_type": "code",
        "colab": {}
      },
      "cell_type": "code",
      "source": [
        "def B(alpha, beta):\n",
        "  \"\"\"a normalizing constant so that the total probability is 1\"\"\"\n",
        "  return math.gamma(alpha) * math.gamma(beta) / math.gamma(alpha + beta)\n",
        "def beta_pdf(x, alpha, beta):\n",
        "  if x < 0 or x > 1: # no weight outside of [0, 1]\n",
        "    return 0\n",
        "  return x ** (alpha - 1) * (1 - x) ** (beta - 1) / B(alpha, beta)"
      ],
      "execution_count": 0,
      "outputs": []
    }
  ]
}